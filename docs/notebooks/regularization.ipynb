{
 "cells": [
  {
   "cell_type": "markdown",
   "metadata": {},
   "source": [
    "# 📏 Weight regularization\n",
    "\n",
    "The following code showcase how to use `at` functionality to select some leaves of a model based on boolean mask or/and name condition to apply some weight regualrization on them. For example using `.at[...]` functionality the following can be achieved concisely:"
   ]
  },
  {
   "cell_type": "markdown",
   "metadata": {},
   "source": [
    "**Boolean mask based selection for branches and leaves**"
   ]
  },
  {
   "cell_type": "code",
   "execution_count": 6,
   "metadata": {},
   "outputs": [
    {
     "name": "stdout",
     "output_type": "stream",
     "text": [
      "2.8333335\n"
     ]
    }
   ],
   "source": [
    "import serket as sk\n",
    "import jax.numpy as jnp\n",
    "import jax\n",
    "\n",
    "\n",
    "class Net(sk.TreeClass):\n",
    "    def __init__(self):\n",
    "        self.weight = jnp.array([-1, -2, -3, 1, 2, 3])\n",
    "        self.bias = jnp.array([-1, 1])\n",
    "\n",
    "\n",
    "def negative_entries_l2_loss(net: Net):\n",
    "    return (\n",
    "        # select all first level branches e.g `Net.weight` and `Net.bias`\n",
    "        net.at[...]\n",
    "        # select all positive array entries\n",
    "        .at[jax.tree_map(lambda x: x > 0, net)]\n",
    "        # set them to zero to exclude their loss\n",
    "        .set(0)\n",
    "        # select all branches at first level e.g `Net.weight` and `Net.bias`\n",
    "        .at[...]\n",
    "        # finally reduce with l2 loss\n",
    "        .reduce(lambda x, y: x + jnp.mean(y**2), initializer=0)\n",
    "    )\n",
    "\n",
    "\n",
    "net = Net()\n",
    "print(negative_entries_l2_loss(net))"
   ]
  },
  {
   "cell_type": "markdown",
   "metadata": {},
   "source": [
    "**Name-based selection for branches and leaves**"
   ]
  },
  {
   "cell_type": "code",
   "execution_count": 7,
   "metadata": {},
   "outputs": [
    {
     "name": "stdout",
     "output_type": "stream",
     "text": [
      "131.01498\n"
     ]
    }
   ],
   "source": [
    "import serket as sk\n",
    "import jax\n",
    "import jax.numpy as jnp\n",
    "import matplotlib.pyplot as plt\n",
    "import re\n",
    "\n",
    "\n",
    "class Net(sk.TreeClass):\n",
    "    def __init__(self) -> None:\n",
    "        self.linear1 = sk.nn.Linear(in_features=1, out_features=20)\n",
    "        self.linear2 = sk.nn.Linear(in_features=20, out_features=20)\n",
    "        self.linear3 = sk.nn.Linear(in_features=20, out_features=20)\n",
    "        self.linear4 = sk.nn.Linear(in_features=20, out_features=1)\n",
    "\n",
    "    def __call__(self, x):\n",
    "        x = jax.nn.tanh(self.linear1(x))\n",
    "        x = jax.nn.tanh(self.linear2(x))\n",
    "        x = jax.nn.tanh(self.linear3(x))\n",
    "        x = self.linear4(x)\n",
    "        return x\n",
    "    \n",
    "def linear_12_weight_l1_loss(net: Net):\n",
    "    return (\n",
    "        # select desired branches (linear1, linear2 in this example)\n",
    "        # we can also select branches by a valid regex expression\n",
    "        net.at[re.compile(\"linear[1,2]\")]\n",
    "        # select weight leaf\n",
    "        .at[\"weight\"]\n",
    "        # apply l1 loss\n",
    "        .reduce(lambda x, y: x + jnp.sum(jnp.abs(y)), initializer=0)\n",
    "    )\n",
    "\n",
    "net = Net()\n",
    "print(linear_12_weight_l1_loss(net))"
   ]
  }
 ],
 "metadata": {
  "kernelspec": {
   "display_name": "dev-jax",
   "language": "python",
   "name": "python3"
  },
  "language_info": {
   "codemirror_mode": {
    "name": "ipython",
    "version": 3
   },
   "file_extension": ".py",
   "mimetype": "text/x-python",
   "name": "python",
   "nbconvert_exporter": "python",
   "pygments_lexer": "ipython3",
   "version": "3.10.0"
  },
  "orig_nbformat": 4
 },
 "nbformat": 4,
 "nbformat_minor": 2
}
