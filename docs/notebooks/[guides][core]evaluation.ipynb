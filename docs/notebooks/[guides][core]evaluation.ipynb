{
 "cells": [
  {
   "cell_type": "markdown",
   "metadata": {},
   "source": [
    "# ➕ Evaluation handling"
   ]
  },
  {
   "cell_type": "markdown",
   "metadata": {},
   "source": [
    "Serket uses dispatching over layers to determine the evaluation counterpart of a layer.For instance, during evaluation, the `Dropout` layer is replaced by an `Identity` layer, and the `BatchNorm` layer is replaced by an `EvalBatchNorm` layer. This ensures that when evaluating a tree of layers, users can follow the **\"What you see is what you get\" (WYSIWYG)** principle, meaning that Seeing a `Dropout`/`BatchNorm` in the model have one meaning.\n",
    "\n",
    " The dispatch design choice allow user to define layers like `Dropout` and `BatchNorm` that have different behaviors during training and evaluation without having to threading a training/eval flag through the layers."
   ]
  },
  {
   "cell_type": "code",
   "execution_count": 1,
   "metadata": {},
   "outputs": [],
   "source": [
    "!pip install git+https://github.com/ASEM000/serket --quiet"
   ]
  },
  {
   "cell_type": "markdown",
   "metadata": {},
   "source": [
    "## Imports"
   ]
  },
  {
   "cell_type": "code",
   "execution_count": 2,
   "metadata": {},
   "outputs": [],
   "source": [
    "import serket as sk\n",
    "import jax.numpy as jnp\n",
    "import jax.random as jr\n",
    "import matplotlib.pyplot as plt\n",
    "import functools as ft\n",
    "import jax"
   ]
  },
  {
   "cell_type": "markdown",
   "metadata": {},
   "source": [
    "## Example: `Dropout`\n",
    "The following example, train a sequential of layers with `Dropout` layer. then applies `tree_eval` to replace the `Dropout` with `Identity`"
   ]
  },
  {
   "cell_type": "code",
   "execution_count": 3,
   "metadata": {},
   "outputs": [
    {
     "name": "stdout",
     "output_type": "stream",
     "text": [
      "Before training --------------------------------------------------------------------------------\n",
      "Net(\n",
      "  linear1=Linear(\n",
      "    in_features=(#1), \n",
      "    out_features=(#10), \n",
      "    in_axis=(#-1), \n",
      "    out_axis=(#-1), \n",
      "    weight_init=#glorot_uniform, \n",
      "    bias_init=#zeros, \n",
      "    weight=f32[10,1](μ=-0.06, σ=0.42, ∈[-0.54,0.54]), \n",
      "    bias=f32[10](μ=0.00, σ=0.00, ∈[0.00,0.00])\n",
      "  ), \n",
      "  dropout=Dropout(drop_rate=0.125, drop_axes=None), \n",
      "  linear2=Linear(\n",
      "    in_features=(#10), \n",
      "    out_features=(#1), \n",
      "    in_axis=(#-1), \n",
      "    out_axis=(#-1), \n",
      "    weight_init=#glorot_uniform, \n",
      "    bias_init=#zeros, \n",
      "    weight=f32[1,10](μ=-0.03, σ=0.43, ∈[-0.70,0.60]), \n",
      "    bias=f32[1](μ=0.00, σ=0.00, ∈[0.00,0.00])\n",
      "  )\n",
      ")\n",
      "After training --------------------------------------------------------------------------------\n",
      "Net(\n",
      "  linear1=Linear(\n",
      "    in_features=(1), \n",
      "    out_features=(10), \n",
      "    in_axis=(-1), \n",
      "    out_axis=(-1), \n",
      "    weight_init=glorot_uniform, \n",
      "    bias_init=zeros, \n",
      "    weight=f32[10,1](μ=-0.20, σ=1.25, ∈[-2.35,2.49]), \n",
      "    bias=f32[10](μ=0.00, σ=0.00, ∈[-0.00,0.00])\n",
      "  ), \n",
      "  dropout=Dropout(drop_rate=f32[](μ=0.12, σ=0.00, ∈[0.12,0.12]), drop_axes=None), \n",
      "  linear2=Linear(\n",
      "    in_features=(10), \n",
      "    out_features=(1), \n",
      "    in_axis=(-1), \n",
      "    out_axis=(-1), \n",
      "    weight_init=glorot_uniform, \n",
      "    bias_init=zeros, \n",
      "    weight=f32[1,10](μ=-0.01, σ=0.42, ∈[-0.72,0.55]), \n",
      "    bias=f32[1](μ=0.00, σ=0.00, ∈[0.00,0.00])\n",
      "  )\n",
      ")\n"
     ]
    }
   ],
   "source": [
    "class Net(sk.TreeClass):\n",
    "    def __init__(self, *, key: jax.Array):\n",
    "        k1, k2 = jax.random.split(key)\n",
    "        self.linear1 = sk.nn.Linear(1, 10, key=k1)\n",
    "        self.dropout = sk.nn.Dropout(0.125)\n",
    "        self.linear2 = sk.nn.Linear(10, 1, key=k2)\n",
    "\n",
    "    def __call__(self, input: jax.Array, *, key: jax.Array):\n",
    "        input = self.linear1(input)\n",
    "        input = self.dropout(input, key=key)\n",
    "        input = jnp.tanh(input)\n",
    "        input = self.linear2(input)\n",
    "        return input\n",
    "\n",
    "\n",
    "net = sk.tree_mask(Net(key=jr.PRNGKey(0)))\n",
    "x = jnp.linspace(-1, 1, 100)[..., None]\n",
    "y = jnp.sin(x * 3.14)\n",
    "\n",
    "\n",
    "@jax.jit\n",
    "def train_step(net, x, y, key):\n",
    "    keys = jax.random.split(key, len(x))\n",
    "\n",
    "    def loss_func(net, x, y):\n",
    "        net = sk.tree_unmask(net)\n",
    "        ypred = jax.vmap(net)(x, key=keys)\n",
    "        return jnp.mean((ypred - y) ** 2)\n",
    "\n",
    "    grad = jax.grad(loss_func)(net, x, y)\n",
    "    net = jax.tree_util.tree_map(lambda p, g: p - 1e-2 * g, net, grad)\n",
    "    return net\n",
    "\n",
    "\n",
    "key = jax.random.PRNGKey(0)\n",
    "\n",
    "print(\"Before training\", \"-\" * 80)\n",
    "print(repr(net))\n",
    "for i in range(10_000):\n",
    "    key, subkey = jax.random.split(key)\n",
    "    net = train_step(net, x, y, subkey)\n",
    "\n",
    "net = sk.tree_unmask(net)\n",
    "\n",
    "print(\"After training\", \"-\" * 80)\n",
    "print(repr(net))"
   ]
  },
  {
   "cell_type": "markdown",
   "metadata": {},
   "source": [
    "Apply `tree_eval`\n",
    "\n",
    "Note how `Dropout` is replaced by `Identity`. No need to **thread** a train/eval flag!"
   ]
  },
  {
   "cell_type": "code",
   "execution_count": 4,
   "metadata": {},
   "outputs": [
    {
     "name": "stdout",
     "output_type": "stream",
     "text": [
      "Dropout before eval --------------------------------------------------------------------------------\n",
      "Dropout(drop_rate=f32[](μ=0.12, σ=0.00, ∈[0.12,0.12]), drop_axes=None)\n",
      "Dropout after eval --------------------------------------------------------------------------------\n",
      "Identity()\n"
     ]
    }
   ],
   "source": [
    "print(\"Dropout before eval\", \"-\" * 80)\n",
    "print(repr(net.dropout))\n",
    "net = sk.tree_eval(net)\n",
    "print(\"Dropout after eval\", \"-\" * 80)\n",
    "print(repr(net.dropout))"
   ]
  },
  {
   "cell_type": "code",
   "execution_count": 5,
   "metadata": {},
   "outputs": [
    {
     "data": {
      "text/plain": [
       "[<matplotlib.lines.Line2D at 0x178e05850>]"
      ]
     },
     "execution_count": 5,
     "metadata": {},
     "output_type": "execute_result"
    },
    {
     "data": {
      "image/png": "[encoded data removed]",
      "text/plain": [
       "<Figure size 640x480 with 1 Axes>"
      ]
     },
     "metadata": {},
     "output_type": "display_data"
    }
   ],
   "source": [
    "plt.plot(x, y, label=\"true\")\n",
    "plt.plot(x, jax.vmap(lambda input: net(input, key=None))(x), label=\"pred\")"
   ]
  },
  {
   "cell_type": "markdown",
   "metadata": {},
   "source": [
    "## Custom evaluation rule\n",
    "\n",
    "The following shows how to define an evaluation behavior for a layer that exhibits different behavior based on eval/train status."
   ]
  },
  {
   "cell_type": "code",
   "execution_count": 6,
   "metadata": {},
   "outputs": [
    {
     "name": "stdout",
     "output_type": "stream",
     "text": [
      "[[2. 2. 2.]\n",
      " [2. 2. 2.]\n",
      " [2. 2. 2.]]\n",
      "[[1. 1. 1.]\n",
      " [1. 1. 1.]\n",
      " [1. 1. 1.]]\n"
     ]
    }
   ],
   "source": [
    "class AddOne(sk.TreeClass):\n",
    "    def __call__(self, x: jax.Array) -> jax.Array:\n",
    "        return x + 1\n",
    "\n",
    "\n",
    "x = jax.numpy.ones([3, 3])\n",
    "\n",
    "add_one = AddOne()\n",
    "\n",
    "\n",
    "class AddOneEval(sk.TreeClass):\n",
    "    def __call__(self, x: jax.Array) -> jax.Array:\n",
    "        return x  # no-op\n",
    "\n",
    "\n",
    "@sk.tree_eval.def_eval(AddOne)\n",
    "def _(_: AddOne) -> AddOneEval:\n",
    "    return AddOneEval()\n",
    "\n",
    "\n",
    "print(add_one(x))\n",
    "print(sk.tree_eval(add_one)(x))"
   ]
  }
 ],
 "metadata": {
  "kernelspec": {
   "display_name": "dev-jax",
   "language": "python",
   "name": "python3"
  },
  "language_info": {
   "codemirror_mode": {
    "name": "ipython",
    "version": 3
   },
   "file_extension": ".py",
   "mimetype": "text/x-python",
   "name": "python",
   "nbconvert_exporter": "python",
   "pygments_lexer": "ipython3",
   "version": "3.12.2"
  },
  "orig_nbformat": 4
 },
 "nbformat": 4,
 "nbformat_minor": 2
}
