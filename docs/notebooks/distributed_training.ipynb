{
 "cells": [
  {
   "cell_type": "markdown",
   "metadata": {},
   "source": [
    "#  🚄 Data and model parallelism\n",
    "\n",
    "In this guide, `jax` machinery for array sharding is used to achieve model and data parallelism.\n",
    "\n",
    "Reference: [jax docs](https://jax.readthedocs.io/en/latest/notebooks/Distributed_arrays_and_automatic_parallelization.html)"
   ]
  },
  {
   "cell_type": "markdown",
   "metadata": {},
   "source": [
    "## Imports"
   ]
  },
  {
   "cell_type": "code",
   "execution_count": 1,
   "metadata": {},
   "outputs": [],
   "source": [
    "!pip install git+https://github.com/ASEM000/serket --quiet\n",
    "!pip install optax --quiet\n",
    "!pip install ml_collections --quiet\n",
    "!pip install tqdm --quiet"
   ]
  },
  {
   "cell_type": "code",
   "execution_count": 1,
   "metadata": {},
   "outputs": [],
   "source": [
    "import os\n",
    "\n",
    "# config XLA to show 8 devices\n",
    "os.environ[\"XLA_FLAGS\"] = \"--xla_force_host_platform_device_count=8\"\n",
    "import serket as sk\n",
    "import jax\n",
    "from jax.experimental import mesh_utils\n",
    "import jax.numpy as jnp\n",
    "import jax.random as jr\n",
    "import jax.sharding as js\n",
    "import matplotlib.pyplot as plt\n",
    "import functools as ft\n",
    "import optax\n",
    "from ml_collections import ConfigDict\n",
    "from tqdm.notebook import tqdm"
   ]
  },
  {
   "cell_type": "markdown",
   "metadata": {},
   "source": [
    "## Devices and mesh setup"
   ]
  },
  {
   "cell_type": "code",
   "execution_count": 2,
   "metadata": {},
   "outputs": [],
   "source": [
    "devices = mesh_utils.create_device_mesh((8))\n",
    "mesh = js.Mesh(devices.reshape(4, 2), axis_names=(\"model\", \"data\"))"
   ]
  },
  {
   "cell_type": "markdown",
   "metadata": {},
   "source": [
    "## Data "
   ]
  },
  {
   "cell_type": "code",
   "execution_count": 3,
   "metadata": {},
   "outputs": [
    {
     "data": {
      "text/plain": [
       "<matplotlib.legend.Legend at 0x2921ae850>"
      ]
     },
     "execution_count": 3,
     "metadata": {},
     "output_type": "execute_result"
    },
    {
     "data": {
      "image/png": "[encoded data removed]",
      "text/plain": [
       "<Figure size 640x480 with 1 Axes>"
      ]
     },
     "metadata": {},
     "output_type": "display_data"
    }
   ],
   "source": [
    "x = jnp.linspace(-jnp.pi, jnp.pi, 8 * 10).reshape(-1, 1)\n",
    "y = jnp.sin(x) + jr.normal(jr.PRNGKey(0), shape=x.shape) * 0.1\n",
    "\n",
    "plt.plot(x, y, \"o\", label=\"data\")\n",
    "plt.plot(x, jnp.sin(x), label=\"sin(x)\")\n",
    "plt.xlabel(\"x\")\n",
    "plt.ylabel(\"y\")\n",
    "plt.legend()"
   ]
  },
  {
   "cell_type": "markdown",
   "metadata": {},
   "source": [
    "## Define model and optimizer state"
   ]
  },
  {
   "cell_type": "code",
   "execution_count": 4,
   "metadata": {},
   "outputs": [
    {
     "name": "stdout",
     "output_type": "stream",
     "text": [
      "┌──────────┬─────────┬─────┬───────┐\n",
      "│Name      │Type     │Count│Size   │\n",
      "├──────────┼─────────┼─────┼───────┤\n",
      "│.l1.weight│f32[32,1]│32   │128.00B│\n",
      "├──────────┼─────────┼─────┼───────┤\n",
      "│.l1.bias  │f32[32]  │32   │128.00B│\n",
      "├──────────┼─────────┼─────┼───────┤\n",
      "│.l2.weight│f32[8,32]│256  │1.00KB │\n",
      "├──────────┼─────────┼─────┼───────┤\n",
      "│.l2.bias  │f32[8]   │8    │32.00B │\n",
      "├──────────┼─────────┼─────┼───────┤\n",
      "│.l3.weight│f32[1,8] │8    │32.00B │\n",
      "├──────────┼─────────┼─────┼───────┤\n",
      "│.l3.bias  │f32[1]   │1    │4.00B  │\n",
      "├──────────┼─────────┼─────┼───────┤\n",
      "│Σ         │Net      │337  │1.32KB │\n",
      "└──────────┴─────────┴─────┴───────┘\n"
     ]
    }
   ],
   "source": [
    "class Net(sk.TreeClass):\n",
    "    def __init__(self, *, key: jax.Array):\n",
    "        k1, k2, k3 = jr.split(key, 3)\n",
    "        self.l1 = sk.nn.Linear(1, 32, key=k1)\n",
    "        self.l2 = sk.nn.Linear(32, 8, key=k2)\n",
    "        self.l3 = sk.nn.Linear(8, 1, key=k3)\n",
    "\n",
    "    def __call__(self, x):\n",
    "        x = jax.nn.tanh(self.l1(x))\n",
    "        x = jax.nn.tanh(self.l2(x))\n",
    "        x = self.l3(x)\n",
    "        return x\n",
    "\n",
    "\n",
    "net = sk.tree_mask(Net(key=jr.PRNGKey(0)))\n",
    "print(sk.tree_summary(net))"
   ]
  },
  {
   "cell_type": "markdown",
   "metadata": {},
   "source": [
    "## Model parallelism\n",
    "\n",
    "The idea here is to construct a `NamedSharding` object for model parallelism with max divisble axis choosen to shard."
   ]
  },
  {
   "cell_type": "code",
   "execution_count": 5,
   "metadata": {},
   "outputs": [
    {
     "name": "stdout",
     "output_type": "stream",
     "text": [
      ".l1.weight\n"
     ]
    },
    {
     "data": {
      "text/html": [
       "<pre style=\"white-space:pre;overflow-x:auto;line-height:normal;font-family:Menlo,'DejaVu Sans Mono',consolas,'Courier New',monospace\"><span style=\"color: #ffffff; text-decoration-color: #ffffff; background-color: #393b79\">         </span>\n",
       "<span style=\"color: #ffffff; text-decoration-color: #ffffff; background-color: #393b79\"> CPU 0,1 </span>\n",
       "<span style=\"color: #ffffff; text-decoration-color: #ffffff; background-color: #393b79\">         </span>\n",
       "<span style=\"color: #ffffff; text-decoration-color: #ffffff; background-color: #de9ed6\">         </span>\n",
       "<span style=\"color: #ffffff; text-decoration-color: #ffffff; background-color: #de9ed6\"> CPU 2,3 </span>\n",
       "<span style=\"color: #ffffff; text-decoration-color: #ffffff; background-color: #de9ed6\">         </span>\n",
       "<span style=\"color: #ffffff; text-decoration-color: #ffffff; background-color: #ad494a\">         </span>\n",
       "<span style=\"color: #ffffff; text-decoration-color: #ffffff; background-color: #ad494a\"> CPU 4,5 </span>\n",
       "<span style=\"color: #ffffff; text-decoration-color: #ffffff; background-color: #ad494a\">         </span>\n",
       "<span style=\"color: #000000; text-decoration-color: #000000; background-color: #b5cf6b\">         </span>\n",
       "<span style=\"color: #000000; text-decoration-color: #000000; background-color: #b5cf6b\"> CPU 6,7 </span>\n",
       "<span style=\"color: #000000; text-decoration-color: #000000; background-color: #b5cf6b\">         </span>\n",
       "</pre>\n"
      ],
      "text/plain": [
       "\u001b[38;2;255;255;255;48;2;57;59;121m         \u001b[0m\n",
       "\u001b[38;2;255;255;255;48;2;57;59;121m \u001b[0m\u001b[38;2;255;255;255;48;2;57;59;121mCPU 0,1\u001b[0m\u001b[38;2;255;255;255;48;2;57;59;121m \u001b[0m\n",
       "\u001b[38;2;255;255;255;48;2;57;59;121m         \u001b[0m\n",
       "\u001b[38;2;255;255;255;48;2;222;158;214m         \u001b[0m\n",
       "\u001b[38;2;255;255;255;48;2;222;158;214m \u001b[0m\u001b[38;2;255;255;255;48;2;222;158;214mCPU 2,3\u001b[0m\u001b[38;2;255;255;255;48;2;222;158;214m \u001b[0m\n",
       "\u001b[38;2;255;255;255;48;2;222;158;214m         \u001b[0m\n",
       "\u001b[38;2;255;255;255;48;2;173;73;74m         \u001b[0m\n",
       "\u001b[38;2;255;255;255;48;2;173;73;74m \u001b[0m\u001b[38;2;255;255;255;48;2;173;73;74mCPU 4,5\u001b[0m\u001b[38;2;255;255;255;48;2;173;73;74m \u001b[0m\n",
       "\u001b[38;2;255;255;255;48;2;173;73;74m         \u001b[0m\n",
       "\u001b[38;2;0;0;0;48;2;181;207;107m         \u001b[0m\n",
       "\u001b[38;2;0;0;0;48;2;181;207;107m \u001b[0m\u001b[38;2;0;0;0;48;2;181;207;107mCPU 6,7\u001b[0m\u001b[38;2;0;0;0;48;2;181;207;107m \u001b[0m\n",
       "\u001b[38;2;0;0;0;48;2;181;207;107m         \u001b[0m\n"
      ]
     },
     "metadata": {},
     "output_type": "display_data"
    },
    {
     "name": "stdout",
     "output_type": "stream",
     "text": [
      ".l1.bias\n"
     ]
    },
    {
     "data": {
      "text/html": [
       "<pre style=\"white-space:pre;overflow-x:auto;line-height:normal;font-family:Menlo,'DejaVu Sans Mono',consolas,'Courier New',monospace\"><span style=\"color: #ffffff; text-decoration-color: #ffffff; background-color: #393b79\"> CPU 0,1 </span><span style=\"color: #ffffff; text-decoration-color: #ffffff; background-color: #de9ed6\"> CPU 2,3 </span><span style=\"color: #ffffff; text-decoration-color: #ffffff; background-color: #ad494a\"> CPU 4,5 </span><span style=\"color: #000000; text-decoration-color: #000000; background-color: #b5cf6b\"> CPU 6,7 </span>\n",
       "<span style=\"color: #ffffff; text-decoration-color: #ffffff; background-color: #393b79\">         </span><span style=\"color: #ffffff; text-decoration-color: #ffffff; background-color: #de9ed6\">         </span><span style=\"color: #ffffff; text-decoration-color: #ffffff; background-color: #ad494a\">         </span><span style=\"color: #000000; text-decoration-color: #000000; background-color: #b5cf6b\">         </span>\n",
       "</pre>\n"
      ],
      "text/plain": [
       "\u001b[38;2;255;255;255;48;2;57;59;121m \u001b[0m\u001b[38;2;255;255;255;48;2;57;59;121mCPU 0,1\u001b[0m\u001b[38;2;255;255;255;48;2;57;59;121m \u001b[0m\u001b[38;2;255;255;255;48;2;222;158;214m \u001b[0m\u001b[38;2;255;255;255;48;2;222;158;214mCPU 2,3\u001b[0m\u001b[38;2;255;255;255;48;2;222;158;214m \u001b[0m\u001b[38;2;255;255;255;48;2;173;73;74m \u001b[0m\u001b[38;2;255;255;255;48;2;173;73;74mCPU 4,5\u001b[0m\u001b[38;2;255;255;255;48;2;173;73;74m \u001b[0m\u001b[38;2;0;0;0;48;2;181;207;107m \u001b[0m\u001b[38;2;0;0;0;48;2;181;207;107mCPU 6,7\u001b[0m\u001b[38;2;0;0;0;48;2;181;207;107m \u001b[0m\n",
       "\u001b[38;2;255;255;255;48;2;57;59;121m         \u001b[0m\u001b[38;2;255;255;255;48;2;222;158;214m         \u001b[0m\u001b[38;2;255;255;255;48;2;173;73;74m         \u001b[0m\u001b[38;2;0;0;0;48;2;181;207;107m         \u001b[0m\n"
      ]
     },
     "metadata": {},
     "output_type": "display_data"
    },
    {
     "name": "stdout",
     "output_type": "stream",
     "text": [
      ".l2.weight\n"
     ]
    },
    {
     "data": {
      "text/html": [
       "<pre style=\"white-space:pre;overflow-x:auto;line-height:normal;font-family:Menlo,'DejaVu Sans Mono',consolas,'Courier New',monospace\"><span style=\"color: #ffffff; text-decoration-color: #ffffff; background-color: #393b79\">                    </span><span style=\"color: #ffffff; text-decoration-color: #ffffff; background-color: #de9ed6\">                    </span><span style=\"color: #ffffff; text-decoration-color: #ffffff; background-color: #ad494a\">                    </span><span style=\"color: #000000; text-decoration-color: #000000; background-color: #b5cf6b\">                    </span>\n",
       "<span style=\"color: #ffffff; text-decoration-color: #ffffff; background-color: #393b79\">                    </span><span style=\"color: #ffffff; text-decoration-color: #ffffff; background-color: #de9ed6\">                    </span><span style=\"color: #ffffff; text-decoration-color: #ffffff; background-color: #ad494a\">                    </span><span style=\"color: #000000; text-decoration-color: #000000; background-color: #b5cf6b\">                    </span>\n",
       "<span style=\"color: #ffffff; text-decoration-color: #ffffff; background-color: #393b79\">                    </span><span style=\"color: #ffffff; text-decoration-color: #ffffff; background-color: #de9ed6\">                    </span><span style=\"color: #ffffff; text-decoration-color: #ffffff; background-color: #ad494a\">                    </span><span style=\"color: #000000; text-decoration-color: #000000; background-color: #b5cf6b\">                    </span>\n",
       "<span style=\"color: #ffffff; text-decoration-color: #ffffff; background-color: #393b79\">                    </span><span style=\"color: #ffffff; text-decoration-color: #ffffff; background-color: #de9ed6\">                    </span><span style=\"color: #ffffff; text-decoration-color: #ffffff; background-color: #ad494a\">                    </span><span style=\"color: #000000; text-decoration-color: #000000; background-color: #b5cf6b\">                    </span>\n",
       "<span style=\"color: #ffffff; text-decoration-color: #ffffff; background-color: #393b79\">                    </span><span style=\"color: #ffffff; text-decoration-color: #ffffff; background-color: #de9ed6\">                    </span><span style=\"color: #ffffff; text-decoration-color: #ffffff; background-color: #ad494a\">                    </span><span style=\"color: #000000; text-decoration-color: #000000; background-color: #b5cf6b\">                    </span>\n",
       "<span style=\"color: #ffffff; text-decoration-color: #ffffff; background-color: #393b79\">         C…         </span><span style=\"color: #ffffff; text-decoration-color: #ffffff; background-color: #de9ed6\">         C…         </span><span style=\"color: #ffffff; text-decoration-color: #ffffff; background-color: #ad494a\">         C…         </span><span style=\"color: #000000; text-decoration-color: #000000; background-color: #b5cf6b\">         C…         </span>\n",
       "<span style=\"color: #ffffff; text-decoration-color: #ffffff; background-color: #393b79\">         0…         </span><span style=\"color: #ffffff; text-decoration-color: #ffffff; background-color: #de9ed6\">         2…         </span><span style=\"color: #ffffff; text-decoration-color: #ffffff; background-color: #ad494a\">         4…         </span><span style=\"color: #000000; text-decoration-color: #000000; background-color: #b5cf6b\">         6…         </span>\n",
       "<span style=\"color: #ffffff; text-decoration-color: #ffffff; background-color: #393b79\">                    </span><span style=\"color: #ffffff; text-decoration-color: #ffffff; background-color: #de9ed6\">                    </span><span style=\"color: #ffffff; text-decoration-color: #ffffff; background-color: #ad494a\">                    </span><span style=\"color: #000000; text-decoration-color: #000000; background-color: #b5cf6b\">                    </span>\n",
       "<span style=\"color: #ffffff; text-decoration-color: #ffffff; background-color: #393b79\">                    </span><span style=\"color: #ffffff; text-decoration-color: #ffffff; background-color: #de9ed6\">                    </span><span style=\"color: #ffffff; text-decoration-color: #ffffff; background-color: #ad494a\">                    </span><span style=\"color: #000000; text-decoration-color: #000000; background-color: #b5cf6b\">                    </span>\n",
       "<span style=\"color: #ffffff; text-decoration-color: #ffffff; background-color: #393b79\">                    </span><span style=\"color: #ffffff; text-decoration-color: #ffffff; background-color: #de9ed6\">                    </span><span style=\"color: #ffffff; text-decoration-color: #ffffff; background-color: #ad494a\">                    </span><span style=\"color: #000000; text-decoration-color: #000000; background-color: #b5cf6b\">                    </span>\n",
       "<span style=\"color: #ffffff; text-decoration-color: #ffffff; background-color: #393b79\">                    </span><span style=\"color: #ffffff; text-decoration-color: #ffffff; background-color: #de9ed6\">                    </span><span style=\"color: #ffffff; text-decoration-color: #ffffff; background-color: #ad494a\">                    </span><span style=\"color: #000000; text-decoration-color: #000000; background-color: #b5cf6b\">                    </span>\n",
       "<span style=\"color: #ffffff; text-decoration-color: #ffffff; background-color: #393b79\">                    </span><span style=\"color: #ffffff; text-decoration-color: #ffffff; background-color: #de9ed6\">                    </span><span style=\"color: #ffffff; text-decoration-color: #ffffff; background-color: #ad494a\">                    </span><span style=\"color: #000000; text-decoration-color: #000000; background-color: #b5cf6b\">                    </span>\n",
       "</pre>\n"
      ],
      "text/plain": [
       "\u001b[38;2;255;255;255;48;2;57;59;121m                    \u001b[0m\u001b[38;2;255;255;255;48;2;222;158;214m                    \u001b[0m\u001b[38;2;255;255;255;48;2;173;73;74m                    \u001b[0m\u001b[38;2;0;0;0;48;2;181;207;107m                    \u001b[0m\n",
       "\u001b[38;2;255;255;255;48;2;57;59;121m                    \u001b[0m\u001b[38;2;255;255;255;48;2;222;158;214m                    \u001b[0m\u001b[38;2;255;255;255;48;2;173;73;74m                    \u001b[0m\u001b[38;2;0;0;0;48;2;181;207;107m                    \u001b[0m\n",
       "\u001b[38;2;255;255;255;48;2;57;59;121m                    \u001b[0m\u001b[38;2;255;255;255;48;2;222;158;214m                    \u001b[0m\u001b[38;2;255;255;255;48;2;173;73;74m                    \u001b[0m\u001b[38;2;0;0;0;48;2;181;207;107m                    \u001b[0m\n",
       "\u001b[38;2;255;255;255;48;2;57;59;121m                    \u001b[0m\u001b[38;2;255;255;255;48;2;222;158;214m                    \u001b[0m\u001b[38;2;255;255;255;48;2;173;73;74m                    \u001b[0m\u001b[38;2;0;0;0;48;2;181;207;107m                    \u001b[0m\n",
       "\u001b[38;2;255;255;255;48;2;57;59;121m                    \u001b[0m\u001b[38;2;255;255;255;48;2;222;158;214m                    \u001b[0m\u001b[38;2;255;255;255;48;2;173;73;74m                    \u001b[0m\u001b[38;2;0;0;0;48;2;181;207;107m                    \u001b[0m\n",
       "\u001b[38;2;255;255;255;48;2;57;59;121m         \u001b[0m\u001b[38;2;255;255;255;48;2;57;59;121mC…\u001b[0m\u001b[38;2;255;255;255;48;2;57;59;121m         \u001b[0m\u001b[38;2;255;255;255;48;2;222;158;214m         \u001b[0m\u001b[38;2;255;255;255;48;2;222;158;214mC…\u001b[0m\u001b[38;2;255;255;255;48;2;222;158;214m         \u001b[0m\u001b[38;2;255;255;255;48;2;173;73;74m         \u001b[0m\u001b[38;2;255;255;255;48;2;173;73;74mC…\u001b[0m\u001b[38;2;255;255;255;48;2;173;73;74m         \u001b[0m\u001b[38;2;0;0;0;48;2;181;207;107m         \u001b[0m\u001b[38;2;0;0;0;48;2;181;207;107mC…\u001b[0m\u001b[38;2;0;0;0;48;2;181;207;107m         \u001b[0m\n",
       "\u001b[38;2;255;255;255;48;2;57;59;121m         \u001b[0m\u001b[38;2;255;255;255;48;2;57;59;121m0…\u001b[0m\u001b[38;2;255;255;255;48;2;57;59;121m         \u001b[0m\u001b[38;2;255;255;255;48;2;222;158;214m         \u001b[0m\u001b[38;2;255;255;255;48;2;222;158;214m2…\u001b[0m\u001b[38;2;255;255;255;48;2;222;158;214m         \u001b[0m\u001b[38;2;255;255;255;48;2;173;73;74m         \u001b[0m\u001b[38;2;255;255;255;48;2;173;73;74m4…\u001b[0m\u001b[38;2;255;255;255;48;2;173;73;74m         \u001b[0m\u001b[38;2;0;0;0;48;2;181;207;107m         \u001b[0m\u001b[38;2;0;0;0;48;2;181;207;107m6…\u001b[0m\u001b[38;2;0;0;0;48;2;181;207;107m         \u001b[0m\n",
       "\u001b[38;2;255;255;255;48;2;57;59;121m                    \u001b[0m\u001b[38;2;255;255;255;48;2;222;158;214m                    \u001b[0m\u001b[38;2;255;255;255;48;2;173;73;74m                    \u001b[0m\u001b[38;2;0;0;0;48;2;181;207;107m                    \u001b[0m\n",
       "\u001b[38;2;255;255;255;48;2;57;59;121m                    \u001b[0m\u001b[38;2;255;255;255;48;2;222;158;214m                    \u001b[0m\u001b[38;2;255;255;255;48;2;173;73;74m                    \u001b[0m\u001b[38;2;0;0;0;48;2;181;207;107m                    \u001b[0m\n",
       "\u001b[38;2;255;255;255;48;2;57;59;121m                    \u001b[0m\u001b[38;2;255;255;255;48;2;222;158;214m                    \u001b[0m\u001b[38;2;255;255;255;48;2;173;73;74m                    \u001b[0m\u001b[38;2;0;0;0;48;2;181;207;107m                    \u001b[0m\n",
       "\u001b[38;2;255;255;255;48;2;57;59;121m                    \u001b[0m\u001b[38;2;255;255;255;48;2;222;158;214m                    \u001b[0m\u001b[38;2;255;255;255;48;2;173;73;74m                    \u001b[0m\u001b[38;2;0;0;0;48;2;181;207;107m                    \u001b[0m\n",
       "\u001b[38;2;255;255;255;48;2;57;59;121m                    \u001b[0m\u001b[38;2;255;255;255;48;2;222;158;214m                    \u001b[0m\u001b[38;2;255;255;255;48;2;173;73;74m                    \u001b[0m\u001b[38;2;0;0;0;48;2;181;207;107m                    \u001b[0m\n"
      ]
     },
     "metadata": {},
     "output_type": "display_data"
    },
    {
     "name": "stdout",
     "output_type": "stream",
     "text": [
      ".l2.bias\n"
     ]
    },
    {
     "data": {
      "text/html": [
       "<pre style=\"white-space:pre;overflow-x:auto;line-height:normal;font-family:Menlo,'DejaVu Sans Mono',consolas,'Courier New',monospace\"><span style=\"color: #ffffff; text-decoration-color: #ffffff; background-color: #393b79\"> CPU 0,1 </span><span style=\"color: #ffffff; text-decoration-color: #ffffff; background-color: #de9ed6\"> CPU 2,3 </span><span style=\"color: #ffffff; text-decoration-color: #ffffff; background-color: #ad494a\"> CPU 4,5 </span><span style=\"color: #000000; text-decoration-color: #000000; background-color: #b5cf6b\"> CPU 6,7 </span>\n",
       "<span style=\"color: #ffffff; text-decoration-color: #ffffff; background-color: #393b79\">         </span><span style=\"color: #ffffff; text-decoration-color: #ffffff; background-color: #de9ed6\">         </span><span style=\"color: #ffffff; text-decoration-color: #ffffff; background-color: #ad494a\">         </span><span style=\"color: #000000; text-decoration-color: #000000; background-color: #b5cf6b\">         </span>\n",
       "</pre>\n"
      ],
      "text/plain": [
       "\u001b[38;2;255;255;255;48;2;57;59;121m \u001b[0m\u001b[38;2;255;255;255;48;2;57;59;121mCPU 0,1\u001b[0m\u001b[38;2;255;255;255;48;2;57;59;121m \u001b[0m\u001b[38;2;255;255;255;48;2;222;158;214m \u001b[0m\u001b[38;2;255;255;255;48;2;222;158;214mCPU 2,3\u001b[0m\u001b[38;2;255;255;255;48;2;222;158;214m \u001b[0m\u001b[38;2;255;255;255;48;2;173;73;74m \u001b[0m\u001b[38;2;255;255;255;48;2;173;73;74mCPU 4,5\u001b[0m\u001b[38;2;255;255;255;48;2;173;73;74m \u001b[0m\u001b[38;2;0;0;0;48;2;181;207;107m \u001b[0m\u001b[38;2;0;0;0;48;2;181;207;107mCPU 6,7\u001b[0m\u001b[38;2;0;0;0;48;2;181;207;107m \u001b[0m\n",
       "\u001b[38;2;255;255;255;48;2;57;59;121m         \u001b[0m\u001b[38;2;255;255;255;48;2;222;158;214m         \u001b[0m\u001b[38;2;255;255;255;48;2;173;73;74m         \u001b[0m\u001b[38;2;0;0;0;48;2;181;207;107m         \u001b[0m\n"
      ]
     },
     "metadata": {},
     "output_type": "display_data"
    },
    {
     "name": "stdout",
     "output_type": "stream",
     "text": [
      ".l3.weight\n"
     ]
    },
    {
     "data": {
      "text/html": [
       "<pre style=\"white-space:pre;overflow-x:auto;line-height:normal;font-family:Menlo,'DejaVu Sans Mono',consolas,'Courier New',monospace\"><span style=\"color: #ffffff; text-decoration-color: #ffffff; background-color: #393b79\">                    </span><span style=\"color: #ffffff; text-decoration-color: #ffffff; background-color: #de9ed6\">                    </span><span style=\"color: #ffffff; text-decoration-color: #ffffff; background-color: #ad494a\">                    </span><span style=\"color: #000000; text-decoration-color: #000000; background-color: #b5cf6b\">                    </span>\n",
       "<span style=\"color: #ffffff; text-decoration-color: #ffffff; background-color: #393b79\">                    </span><span style=\"color: #ffffff; text-decoration-color: #ffffff; background-color: #de9ed6\">                    </span><span style=\"color: #ffffff; text-decoration-color: #ffffff; background-color: #ad494a\">                    </span><span style=\"color: #000000; text-decoration-color: #000000; background-color: #b5cf6b\">                    </span>\n",
       "<span style=\"color: #ffffff; text-decoration-color: #ffffff; background-color: #393b79\">                    </span><span style=\"color: #ffffff; text-decoration-color: #ffffff; background-color: #de9ed6\">                    </span><span style=\"color: #ffffff; text-decoration-color: #ffffff; background-color: #ad494a\">                    </span><span style=\"color: #000000; text-decoration-color: #000000; background-color: #b5cf6b\">                    </span>\n",
       "<span style=\"color: #ffffff; text-decoration-color: #ffffff; background-color: #393b79\">                    </span><span style=\"color: #ffffff; text-decoration-color: #ffffff; background-color: #de9ed6\">                    </span><span style=\"color: #ffffff; text-decoration-color: #ffffff; background-color: #ad494a\">                    </span><span style=\"color: #000000; text-decoration-color: #000000; background-color: #b5cf6b\">                    </span>\n",
       "<span style=\"color: #ffffff; text-decoration-color: #ffffff; background-color: #393b79\">                    </span><span style=\"color: #ffffff; text-decoration-color: #ffffff; background-color: #de9ed6\">                    </span><span style=\"color: #ffffff; text-decoration-color: #ffffff; background-color: #ad494a\">                    </span><span style=\"color: #000000; text-decoration-color: #000000; background-color: #b5cf6b\">                    </span>\n",
       "<span style=\"color: #ffffff; text-decoration-color: #ffffff; background-color: #393b79\">                    </span><span style=\"color: #ffffff; text-decoration-color: #ffffff; background-color: #de9ed6\">                    </span><span style=\"color: #ffffff; text-decoration-color: #ffffff; background-color: #ad494a\">                    </span><span style=\"color: #000000; text-decoration-color: #000000; background-color: #b5cf6b\">                    </span>\n",
       "<span style=\"color: #ffffff; text-decoration-color: #ffffff; background-color: #393b79\">                    </span><span style=\"color: #ffffff; text-decoration-color: #ffffff; background-color: #de9ed6\">                    </span><span style=\"color: #ffffff; text-decoration-color: #ffffff; background-color: #ad494a\">                    </span><span style=\"color: #000000; text-decoration-color: #000000; background-color: #b5cf6b\">                    </span>\n",
       "<span style=\"color: #ffffff; text-decoration-color: #ffffff; background-color: #393b79\">                    </span><span style=\"color: #ffffff; text-decoration-color: #ffffff; background-color: #de9ed6\">                    </span><span style=\"color: #ffffff; text-decoration-color: #ffffff; background-color: #ad494a\">                    </span><span style=\"color: #000000; text-decoration-color: #000000; background-color: #b5cf6b\">                    </span>\n",
       "<span style=\"color: #ffffff; text-decoration-color: #ffffff; background-color: #393b79\">                    </span><span style=\"color: #ffffff; text-decoration-color: #ffffff; background-color: #de9ed6\">                    </span><span style=\"color: #ffffff; text-decoration-color: #ffffff; background-color: #ad494a\">                    </span><span style=\"color: #000000; text-decoration-color: #000000; background-color: #b5cf6b\">                    </span>\n",
       "<span style=\"color: #ffffff; text-decoration-color: #ffffff; background-color: #393b79\">                    </span><span style=\"color: #ffffff; text-decoration-color: #ffffff; background-color: #de9ed6\">                    </span><span style=\"color: #ffffff; text-decoration-color: #ffffff; background-color: #ad494a\">                    </span><span style=\"color: #000000; text-decoration-color: #000000; background-color: #b5cf6b\">                    </span>\n",
       "</pre>\n"
      ],
      "text/plain": [
       "\u001b[38;2;255;255;255;48;2;57;59;121m                    \u001b[0m\u001b[38;2;255;255;255;48;2;222;158;214m                    \u001b[0m\u001b[38;2;255;255;255;48;2;173;73;74m                    \u001b[0m\u001b[38;2;0;0;0;48;2;181;207;107m                    \u001b[0m\n",
       "\u001b[38;2;255;255;255;48;2;57;59;121m                    \u001b[0m\u001b[38;2;255;255;255;48;2;222;158;214m                    \u001b[0m\u001b[38;2;255;255;255;48;2;173;73;74m                    \u001b[0m\u001b[38;2;0;0;0;48;2;181;207;107m                    \u001b[0m\n",
       "\u001b[38;2;255;255;255;48;2;57;59;121m                    \u001b[0m\u001b[38;2;255;255;255;48;2;222;158;214m                    \u001b[0m\u001b[38;2;255;255;255;48;2;173;73;74m                    \u001b[0m\u001b[38;2;0;0;0;48;2;181;207;107m                    \u001b[0m\n",
       "\u001b[38;2;255;255;255;48;2;57;59;121m                    \u001b[0m\u001b[38;2;255;255;255;48;2;222;158;214m                    \u001b[0m\u001b[38;2;255;255;255;48;2;173;73;74m                    \u001b[0m\u001b[38;2;0;0;0;48;2;181;207;107m                    \u001b[0m\n",
       "\u001b[38;2;255;255;255;48;2;57;59;121m                    \u001b[0m\u001b[38;2;255;255;255;48;2;222;158;214m                    \u001b[0m\u001b[38;2;255;255;255;48;2;173;73;74m                    \u001b[0m\u001b[38;2;0;0;0;48;2;181;207;107m                    \u001b[0m\n",
       "\u001b[38;2;255;255;255;48;2;57;59;121m                    \u001b[0m\u001b[38;2;255;255;255;48;2;222;158;214m                    \u001b[0m\u001b[38;2;255;255;255;48;2;173;73;74m                    \u001b[0m\u001b[38;2;0;0;0;48;2;181;207;107m                    \u001b[0m\n",
       "\u001b[38;2;255;255;255;48;2;57;59;121m                    \u001b[0m\u001b[38;2;255;255;255;48;2;222;158;214m                    \u001b[0m\u001b[38;2;255;255;255;48;2;173;73;74m                    \u001b[0m\u001b[38;2;0;0;0;48;2;181;207;107m                    \u001b[0m\n",
       "\u001b[38;2;255;255;255;48;2;57;59;121m                    \u001b[0m\u001b[38;2;255;255;255;48;2;222;158;214m                    \u001b[0m\u001b[38;2;255;255;255;48;2;173;73;74m                    \u001b[0m\u001b[38;2;0;0;0;48;2;181;207;107m                    \u001b[0m\n",
       "\u001b[38;2;255;255;255;48;2;57;59;121m                    \u001b[0m\u001b[38;2;255;255;255;48;2;222;158;214m                    \u001b[0m\u001b[38;2;255;255;255;48;2;173;73;74m                    \u001b[0m\u001b[38;2;0;0;0;48;2;181;207;107m                    \u001b[0m\n",
       "\u001b[38;2;255;255;255;48;2;57;59;121m                    \u001b[0m\u001b[38;2;255;255;255;48;2;222;158;214m                    \u001b[0m\u001b[38;2;255;255;255;48;2;173;73;74m                    \u001b[0m\u001b[38;2;0;0;0;48;2;181;207;107m                    \u001b[0m\n"
      ]
     },
     "metadata": {},
     "output_type": "display_data"
    },
    {
     "name": "stdout",
     "output_type": "stream",
     "text": [
      ".l3.bias\n"
     ]
    },
    {
     "data": {
      "text/html": [
       "<pre style=\"white-space:pre;overflow-x:auto;line-height:normal;font-family:Menlo,'DejaVu Sans Mono',consolas,'Courier New',monospace\"><span style=\"color: #ffffff; text-decoration-color: #ffffff; background-color: #393b79\">   CPU 0,1,2,3,4,5,6,7   </span>\n",
       "<span style=\"color: #ffffff; text-decoration-color: #ffffff; background-color: #393b79\">                         </span>\n",
       "</pre>\n"
      ],
      "text/plain": [
       "\u001b[38;2;255;255;255;48;2;57;59;121m   \u001b[0m\u001b[38;2;255;255;255;48;2;57;59;121mCPU 0,1,2,3,4,5,6,7\u001b[0m\u001b[38;2;255;255;255;48;2;57;59;121m   \u001b[0m\n",
       "\u001b[38;2;255;255;255;48;2;57;59;121m                         \u001b[0m\n"
      ]
     },
     "metadata": {},
     "output_type": "display_data"
    },
    {
     "data": {
      "text/plain": [
       "Net(\n",
       "  l1=Linear(\n",
       "    in_features=(#1), \n",
       "    out_features=#32, \n",
       "    in_axis=(#-1), \n",
       "    out_axis=#-1, \n",
       "    weight_init=#glorot_uniform, \n",
       "    bias_init=#zeros, \n",
       "    weight=None, \n",
       "    bias=None\n",
       "  ), \n",
       "  l2=Linear(\n",
       "    in_features=(#32), \n",
       "    out_features=#8, \n",
       "    in_axis=(#-1), \n",
       "    out_axis=#-1, \n",
       "    weight_init=#glorot_uniform, \n",
       "    bias_init=#zeros, \n",
       "    weight=None, \n",
       "    bias=None\n",
       "  ), \n",
       "  l3=Linear(\n",
       "    in_features=(#8), \n",
       "    out_features=#1, \n",
       "    in_axis=(#-1), \n",
       "    out_axis=#-1, \n",
       "    weight_init=#glorot_uniform, \n",
       "    bias_init=#zeros, \n",
       "    weight=None, \n",
       "    bias=None\n",
       "  )\n",
       ")"
      ]
     },
     "execution_count": 5,
     "metadata": {},
     "output_type": "execute_result"
    }
   ],
   "source": [
    "def model_shard(mesh, leaf):\n",
    "    # shard the largest dimension divisible by number of devices for model axis\n",
    "    spec = [None] * len(leaf.shape)\n",
    "    max_index_size = (None, 0)\n",
    "    model_devices = mesh.shape[\"model\"]\n",
    "\n",
    "    for index, size in enumerate(leaf.shape):\n",
    "        if size % model_devices == 0:\n",
    "            max_index_size = max(max_index_size, (index, size), key=lambda x: x[1])\n",
    "\n",
    "    index, _ = max_index_size\n",
    "\n",
    "    if index is None:\n",
    "        # if no dimension is divisible by model devices\n",
    "        return js.NamedSharding(mesh, js.PartitionSpec())\n",
    "\n",
    "    spec[max_index_size[0]] = \"model\"\n",
    "    return js.NamedSharding(mesh, js.PartitionSpec(*spec))\n",
    "\n",
    "\n",
    "net_sharding = jax.tree_map(ft.partial(model_shard, mesh), net)\n",
    "\n",
    "sample_net = jax.device_put(net, net_sharding)\n",
    "\n",
    "\n",
    "def viz_sharding_with_path(path, leaf):\n",
    "    if isinstance(leaf, jax.Array):\n",
    "        print(jax.tree_util.keystr(path))\n",
    "        jax.debug.visualize_array_sharding(leaf)\n",
    "\n",
    "\n",
    "# visualize the sharding of the network\n",
    "jax.tree_util.tree_map_with_path(viz_sharding_with_path, sample_net)"
   ]
  },
  {
   "cell_type": "markdown",
   "metadata": {},
   "source": [
    "## Data parallelism"
   ]
  },
  {
   "cell_type": "code",
   "execution_count": 6,
   "metadata": {},
   "outputs": [
    {
     "data": {
      "text/html": [
       "<pre style=\"white-space:pre;overflow-x:auto;line-height:normal;font-family:Menlo,'DejaVu Sans Mono',consolas,'Courier New',monospace\"><span style=\"color: #ffffff; text-decoration-color: #ffffff; background-color: #393b79\">           </span>\n",
       "<span style=\"color: #ffffff; text-decoration-color: #ffffff; background-color: #393b79\">           </span>\n",
       "<span style=\"color: #ffffff; text-decoration-color: #ffffff; background-color: #393b79\">CPU 0,2,4,6</span>\n",
       "<span style=\"color: #ffffff; text-decoration-color: #ffffff; background-color: #393b79\">           </span>\n",
       "<span style=\"color: #ffffff; text-decoration-color: #ffffff; background-color: #393b79\">           </span>\n",
       "<span style=\"color: #ffffff; text-decoration-color: #ffffff; background-color: #393b79\">           </span>\n",
       "<span style=\"color: #ffffff; text-decoration-color: #ffffff; background-color: #393b79\">           </span>\n",
       "<span style=\"color: #ffffff; text-decoration-color: #ffffff; background-color: #393b79\">           </span>\n",
       "<span style=\"color: #ffffff; text-decoration-color: #ffffff; background-color: #393b79\">CPU 1,3,5,7</span>\n",
       "<span style=\"color: #ffffff; text-decoration-color: #ffffff; background-color: #393b79\">           </span>\n",
       "<span style=\"color: #ffffff; text-decoration-color: #ffffff; background-color: #393b79\">           </span>\n",
       "<span style=\"color: #ffffff; text-decoration-color: #ffffff; background-color: #393b79\">           </span>\n",
       "</pre>\n"
      ],
      "text/plain": [
       "\u001b[38;2;255;255;255;48;2;57;59;121m           \u001b[0m\n",
       "\u001b[38;2;255;255;255;48;2;57;59;121m           \u001b[0m\n",
       "\u001b[38;2;255;255;255;48;2;57;59;121mCPU 0,2,4,6\u001b[0m\n",
       "\u001b[38;2;255;255;255;48;2;57;59;121m           \u001b[0m\n",
       "\u001b[38;2;255;255;255;48;2;57;59;121m           \u001b[0m\n",
       "\u001b[38;2;255;255;255;48;2;57;59;121m           \u001b[0m\n",
       "\u001b[38;2;255;255;255;48;2;57;59;121m           \u001b[0m\n",
       "\u001b[38;2;255;255;255;48;2;57;59;121m           \u001b[0m\n",
       "\u001b[38;2;255;255;255;48;2;57;59;121mCPU 1,3,5,7\u001b[0m\n",
       "\u001b[38;2;255;255;255;48;2;57;59;121m           \u001b[0m\n",
       "\u001b[38;2;255;255;255;48;2;57;59;121m           \u001b[0m\n",
       "\u001b[38;2;255;255;255;48;2;57;59;121m           \u001b[0m\n"
      ]
     },
     "metadata": {},
     "output_type": "display_data"
    },
    {
     "name": "stdout",
     "output_type": "stream",
     "text": [
      "unsharded shape =\t(80, 1)\n",
      "sharded shape =\t\t(40, 1)\n"
     ]
    }
   ],
   "source": [
    "# shard along the leading dimension\n",
    "data_shrding = js.NamedSharding(mesh, js.PartitionSpec(\"data\"))\n",
    "x_shard = jax.device_put(x, data_shrding)\n",
    "y_shard = jax.device_put(y, data_shrding)\n",
    "\n",
    "# [80,1] -(2 devices)-> [40,1],[40,1]\n",
    "jax.debug.visualize_array_sharding(x_shard)\n",
    "print(f\"unsharded shape =\\t{x_shard.shape}\")\n",
    "print(f\"sharded shape =\\t\\t{x_shard.sharding.shard_shape(x_shard.shape)}\")"
   ]
  },
  {
   "cell_type": "markdown",
   "metadata": {},
   "source": [
    "## Train\n",
    "\n",
    "Putting it all together"
   ]
  },
  {
   "cell_type": "code",
   "execution_count": 7,
   "metadata": {},
   "outputs": [
    {
     "data": {
      "application/vnd.jupyter.widget-view+json": {
       "model_id": "166893640cbb4e418d2306fd0210773f",
       "version_major": 2,
       "version_minor": 0
      },
      "text/plain": [
       "  0%|          | 0/1000 [00:00<?, ?it/s]"
      ]
     },
     "metadata": {},
     "output_type": "display_data"
    }
   ],
   "source": [
    "config = ConfigDict()\n",
    "config.sharding = ConfigDict()\n",
    "config.sharding.data_size = 2\n",
    "config.sharding.model_size = 4\n",
    "config.optim = ConfigDict()\n",
    "config.optim.learning_rate = 1e-3\n",
    "config.epochs = 1_000\n",
    "config.net = None\n",
    "config.key = jr.PRNGKey(0)\n",
    "config.optim.optim_state = None\n",
    "\n",
    "\n",
    "def mse(x, y):\n",
    "    assert x.shape == y.shape, f\"{x.shape} != {y.shape}\"\n",
    "    return jnp.mean((x - y) ** 2)\n",
    "\n",
    "\n",
    "def loss_func(net, x, y):\n",
    "    return mse(sk.tree_unmask(net)(x), y)\n",
    "\n",
    "\n",
    "def train(config: ConfigDict, inputs: jax.Array, targets: jax.Array) -> Net:\n",
    "    optim = optax.adam(config.optim.learning_rate)\n",
    "\n",
    "    if config.net is None:\n",
    "        net = sk.tree_mask(Net(key=config.key))\n",
    "\n",
    "    if config.optim.optim_state is None:\n",
    "        optim_state = optim.init(net)\n",
    "\n",
    "    devices = mesh_utils.create_device_mesh((8))\n",
    "    devices = devices.reshape(config.sharding.model_size, config.sharding.data_size)\n",
    "    mesh = js.Mesh(devices, axis_names=(\"model\", \"data\"))\n",
    "\n",
    "    # data parallelism\n",
    "    data_sharding = js.NamedSharding(mesh, js.PartitionSpec(\"data\"))\n",
    "    inputs = jax.device_put(inputs, data_sharding)\n",
    "    targets = jax.device_put(targets, data_sharding)\n",
    "\n",
    "    # model parallelism\n",
    "    net_sharding = jax.tree_map(ft.partial(model_shard, mesh), net)\n",
    "    net = jax.device_put(net, net_sharding)\n",
    "    optim_state_sharding = jax.tree_map(ft.partial(model_shard, mesh), optim_state)\n",
    "    optim_state = jax.device_put(optim_state, optim_state_sharding)\n",
    "\n",
    "    @jax.jit\n",
    "    def train_step(net: Net, optim_state):\n",
    "        loss, grads = jax.value_and_grad(loss_func)(net, inputs, targets)\n",
    "        grads = jax.lax.with_sharding_constraint(grads, net_sharding)\n",
    "        updates, optim_state = optim.update(grads, optim_state)\n",
    "        net = optax.apply_updates(net, updates)\n",
    "        return net, optim_state, loss\n",
    "\n",
    "    for _ in (pbar := tqdm(range(1, 1_000 + 1))):\n",
    "        net, optim_state, loss = train_step(net, optim_state)\n",
    "        pbar.set_description(f\"loss = {loss:.3e}\")\n",
    "\n",
    "    return sk.tree_unmask(net)\n",
    "\n",
    "\n",
    "net = train(config, x, y)"
   ]
  },
  {
   "cell_type": "markdown",
   "metadata": {},
   "source": [
    "## Visualize results"
   ]
  },
  {
   "cell_type": "code",
   "execution_count": 8,
   "metadata": {},
   "outputs": [
    {
     "data": {
      "text/plain": [
       "<matplotlib.legend.Legend at 0x292540650>"
      ]
     },
     "execution_count": 8,
     "metadata": {},
     "output_type": "execute_result"
    },
    {
     "data": {
      "image/png": "[encoded data removed]",
      "text/plain": [
       "<Figure size 640x480 with 1 Axes>"
      ]
     },
     "metadata": {},
     "output_type": "display_data"
    }
   ],
   "source": [
    "plt.plot(x, net(x), label=\"prediction\")\n",
    "plt.plot(x, jnp.sin(x), label=\"sin(x)\")\n",
    "plt.legend()"
   ]
  }
 ],
 "metadata": {
  "kernelspec": {
   "display_name": "thesis",
   "language": "python",
   "name": "python3"
  },
  "language_info": {
   "codemirror_mode": {
    "name": "ipython",
    "version": 3
   },
   "file_extension": ".py",
   "mimetype": "text/x-python",
   "name": "python",
   "nbconvert_exporter": "python",
   "pygments_lexer": "ipython3",
   "version": "3.11.0"
  }
 },
 "nbformat": 4,
 "nbformat_minor": 2
}
