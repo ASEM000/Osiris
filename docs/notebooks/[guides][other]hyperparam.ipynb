{
 "cells": [
  {
   "cell_type": "markdown",
   "metadata": {},
   "source": [
    "# 🕹️ Hyperparameter tuning\n",
    "In this guide, a simple hyperparameter tuning using `optuna` is demonstrated."
   ]
  },
  {
   "cell_type": "code",
   "execution_count": null,
   "metadata": {},
   "outputs": [],
   "source": [
    "!pip install serket --quiet\n",
    "!pip install optuna --quiet"
   ]
  },
  {
   "cell_type": "markdown",
   "metadata": {},
   "source": [
    "## Imports"
   ]
  },
  {
   "cell_type": "code",
   "execution_count": 1,
   "metadata": {},
   "outputs": [],
   "source": [
    "import serket as sk\n",
    "import jax\n",
    "import jax.numpy as jnp\n",
    "import optax\n",
    "import optuna\n",
    "from tqdm.notebook import tqdm"
   ]
  },
  {
   "cell_type": "markdown",
   "metadata": {},
   "source": [
    "## Train step"
   ]
  },
  {
   "cell_type": "code",
   "execution_count": 2,
   "metadata": {},
   "outputs": [],
   "source": [
    "key = jax.random.key(42)\n",
    "x = jnp.linspace(-1, 1, 100)[..., None]\n",
    "y = jnp.sin(x * 3.14) + jax.random.normal(key, (100, 1)) * 0.01 + 0.5\n",
    "EPOCHS = 1000\n",
    "\n",
    "\n",
    "def objective(trial):\n",
    "    k1, k2 = jax.random.split(jax.random.key(0), 2)\n",
    "\n",
    "    # hidden features selection from 1 to 50\n",
    "    features = trial.suggest_int(\"hidden_features\", 1, 50)\n",
    "    # learning rate selection from 1e-4 to 1e-1\n",
    "    learning_rate = trial.suggest_float(\"lr\", 1e-4, 1e-1, log=True)\n",
    "    # optimizer selection from adam, sgd\n",
    "    optimizer = trial.suggest_categorical(\"optimizer\", [\"adam\", \"sgd\"])\n",
    "    # initialization selection from he_normal, glorot_normal\n",
    "    init = trial.suggest_categorical(\"initialization\", [\"he_normal\", \"glorot_normal\"])\n",
    "    # activation selection from relu, tanh\n",
    "    act_map = dict(relu=jax.nn.relu, tanh=jax.nn.tanh)\n",
    "    act = act_map[trial.suggest_categorical(\"activation function\", [\"relu\", \"tanh\"])]\n",
    "\n",
    "    net = sk.Sequential(\n",
    "        sk.nn.Linear(1, features, weight_init=init, key=k1),\n",
    "        act,\n",
    "        sk.nn.Linear(features, 1, weight_init=init, key=k2),\n",
    "    )\n",
    "\n",
    "    net = sk.tree_mask(net)\n",
    "    optim = getattr(optax, optimizer)(learning_rate=learning_rate)\n",
    "    optim_state = optim.init(net)\n",
    "\n",
    "    @jax.jit\n",
    "    def train_step(\n",
    "        net: sk.Sequential,\n",
    "        optim_state: optax.OptState,\n",
    "        x: jax.Array,\n",
    "        y: jax.Array,\n",
    "    ) -> sk.Sequential:\n",
    "        def mse(ytrue, ypred):\n",
    "            assert ytrue.shape == ypred.shape\n",
    "            return jnp.mean((ytrue - ypred) ** 2)\n",
    "\n",
    "        def loss_func(net, x, y):\n",
    "            net = sk.tree_unmask(net)\n",
    "            ypred = jax.vmap(net)(x)\n",
    "            loss = mse(y, ypred)\n",
    "            return loss\n",
    "\n",
    "        loss, grad = jax.value_and_grad(loss_func)(net, x, y)\n",
    "        updates, optim_state = optim.update(grad, optim_state, net)\n",
    "        net = optax.apply_updates(net, updates)\n",
    "        return net, optim_state, loss\n",
    "\n",
    "    tbar = tqdm(range(EPOCHS))\n",
    "    for _ in tbar:\n",
    "        net, optim_state, loss = train_step(net, optim_state, x, y)\n",
    "        tbar.set_description(f\"loss: {loss:.4f}\")\n",
    "\n",
    "    # return the metric to be optimized\n",
    "    return loss"
   ]
  },
  {
   "cell_type": "markdown",
   "metadata": {},
   "source": [
    "## Define the study"
   ]
  },
  {
   "cell_type": "code",
   "execution_count": 3,
   "metadata": {},
   "outputs": [
    {
     "name": "stderr",
     "output_type": "stream",
     "text": [
      "[I 2023-09-29 21:09:52,616] A new study created in memory with name: no-name-16a0365d-fd42-4ffc-bd79-2fe871c1d357\n"
     ]
    }
   ],
   "source": [
    "study = optuna.create_study(direction=\"minimize\")"
   ]
  },
  {
   "cell_type": "markdown",
   "metadata": {},
   "source": [
    "## Start study"
   ]
  },
  {
   "cell_type": "code",
   "execution_count": 4,
   "metadata": {},
   "outputs": [
    {
     "data": {
      "application/vnd.jupyter.widget-view+json": {
       "model_id": "a8a7fff2e9924234bcd9db257e521f1b",
       "version_major": 2,
       "version_minor": 0
      },
      "text/plain": [
       "  0%|          | 0/1000 [00:00<?, ?it/s]"
      ]
     },
     "metadata": {},
     "output_type": "display_data"
    },
    {
     "name": "stderr",
     "output_type": "stream",
     "text": [
      "[I 2023-09-29 21:09:56,319] Trial 0 finished with value: 0.0011207667412236333 and parameters: {'hidden_features': 17, 'lr': 0.00825869181268387, 'optimizer': 'adam', 'initialization': 'he_normal', 'activation function': 'tanh'}. Best is trial 0 with value: 0.0011207667412236333.\n"
     ]
    },
    {
     "data": {
      "application/vnd.jupyter.widget-view+json": {
       "model_id": "ce178c798b6a4d6c9b70e9a00261d1a7",
       "version_major": 2,
       "version_minor": 0
      },
      "text/plain": [
       "  0%|          | 0/1000 [00:00<?, ?it/s]"
      ]
     },
     "metadata": {},
     "output_type": "display_data"
    },
    {
     "name": "stderr",
     "output_type": "stream",
     "text": [
      "[I 2023-09-29 21:09:57,123] Trial 1 finished with value: 0.0008028973243199289 and parameters: {'hidden_features': 45, 'lr': 0.0019814666321393997, 'optimizer': 'adam', 'initialization': 'glorot_normal', 'activation function': 'relu'}. Best is trial 1 with value: 0.0008028973243199289.\n"
     ]
    },
    {
     "data": {
      "application/vnd.jupyter.widget-view+json": {
       "model_id": "35ae44d505294006b98d002608026a47",
       "version_major": 2,
       "version_minor": 0
      },
      "text/plain": [
       "  0%|          | 0/1000 [00:00<?, ?it/s]"
      ]
     },
     "metadata": {},
     "output_type": "display_data"
    },
    {
     "name": "stderr",
     "output_type": "stream",
     "text": [
      "[I 2023-09-29 21:09:57,634] Trial 2 finished with value: 0.12417665123939514 and parameters: {'hidden_features': 20, 'lr': 0.018312088181874454, 'optimizer': 'sgd', 'initialization': 'glorot_normal', 'activation function': 'tanh'}. Best is trial 1 with value: 0.0008028973243199289.\n"
     ]
    },
    {
     "data": {
      "application/vnd.jupyter.widget-view+json": {
       "model_id": "79d399a647ed42d8ae44bd9c6fdb7150",
       "version_major": 2,
       "version_minor": 0
      },
      "text/plain": [
       "  0%|          | 0/1000 [00:00<?, ?it/s]"
      ]
     },
     "metadata": {},
     "output_type": "display_data"
    },
    {
     "name": "stderr",
     "output_type": "stream",
     "text": [
      "[I 2023-09-29 21:09:58,153] Trial 3 finished with value: 0.0006211642175912857 and parameters: {'hidden_features': 40, 'lr': 0.026646612574400562, 'optimizer': 'adam', 'initialization': 'he_normal', 'activation function': 'tanh'}. Best is trial 3 with value: 0.0006211642175912857.\n"
     ]
    },
    {
     "data": {
      "application/vnd.jupyter.widget-view+json": {
       "model_id": "45c6143a11614666abc8dd151b460b8d",
       "version_major": 2,
       "version_minor": 0
      },
      "text/plain": [
       "  0%|          | 0/1000 [00:00<?, ?it/s]"
      ]
     },
     "metadata": {},
     "output_type": "display_data"
    },
    {
     "name": "stderr",
     "output_type": "stream",
     "text": [
      "[I 2023-09-29 21:09:58,871] Trial 4 finished with value: 0.09805890917778015 and parameters: {'hidden_features': 12, 'lr': 0.0006888743399274645, 'optimizer': 'adam', 'initialization': 'he_normal', 'activation function': 'relu'}. Best is trial 3 with value: 0.0006211642175912857.\n"
     ]
    },
    {
     "data": {
      "application/vnd.jupyter.widget-view+json": {
       "model_id": "2865e8202f3f46e08d115da43916403c",
       "version_major": 2,
       "version_minor": 0
      },
      "text/plain": [
       "  0%|          | 0/1000 [00:00<?, ?it/s]"
      ]
     },
     "metadata": {},
     "output_type": "display_data"
    },
    {
     "name": "stderr",
     "output_type": "stream",
     "text": [
      "[I 2023-09-29 21:09:59,381] Trial 5 finished with value: 0.00010031948477262631 and parameters: {'hidden_features': 29, 'lr': 0.018516682771811458, 'optimizer': 'adam', 'initialization': 'he_normal', 'activation function': 'relu'}. Best is trial 5 with value: 0.00010031948477262631.\n"
     ]
    },
    {
     "data": {
      "application/vnd.jupyter.widget-view+json": {
       "model_id": "917c1ee2fc724c2ab47fac9023db2c3e",
       "version_major": 2,
       "version_minor": 0
      },
      "text/plain": [
       "  0%|          | 0/1000 [00:00<?, ?it/s]"
      ]
     },
     "metadata": {},
     "output_type": "display_data"
    },
    {
     "name": "stderr",
     "output_type": "stream",
     "text": [
      "[I 2023-09-29 21:10:00,039] Trial 6 finished with value: 0.23986369371414185 and parameters: {'hidden_features': 26, 'lr': 0.0002932405836243085, 'optimizer': 'sgd', 'initialization': 'glorot_normal', 'activation function': 'tanh'}. Best is trial 5 with value: 0.00010031948477262631.\n"
     ]
    },
    {
     "data": {
      "application/vnd.jupyter.widget-view+json": {
       "model_id": "ed6d6ad96fd04529a9c264f8c28f68a8",
       "version_major": 2,
       "version_minor": 0
      },
      "text/plain": [
       "  0%|          | 0/1000 [00:00<?, ?it/s]"
      ]
     },
     "metadata": {},
     "output_type": "display_data"
    },
    {
     "name": "stderr",
     "output_type": "stream",
     "text": [
      "[I 2023-09-29 21:10:00,331] Trial 7 finished with value: 0.18617339432239532 and parameters: {'hidden_features': 26, 'lr': 0.0006595062506786032, 'optimizer': 'sgd', 'initialization': 'he_normal', 'activation function': 'relu'}. Best is trial 5 with value: 0.00010031948477262631.\n"
     ]
    },
    {
     "data": {
      "application/vnd.jupyter.widget-view+json": {
       "model_id": "7d9ab54a26a143eabd0258ce6cabda2e",
       "version_major": 2,
       "version_minor": 0
      },
      "text/plain": [
       "  0%|          | 0/1000 [00:00<?, ?it/s]"
      ]
     },
     "metadata": {},
     "output_type": "display_data"
    },
    {
     "name": "stderr",
     "output_type": "stream",
     "text": [
      "[I 2023-09-29 21:10:00,879] Trial 8 finished with value: 0.05963616073131561 and parameters: {'hidden_features': 40, 'lr': 0.00041347777105107286, 'optimizer': 'adam', 'initialization': 'he_normal', 'activation function': 'relu'}. Best is trial 5 with value: 0.00010031948477262631.\n"
     ]
    },
    {
     "data": {
      "application/vnd.jupyter.widget-view+json": {
       "model_id": "09c90b03d32547dc9bdc9adae1e72826",
       "version_major": 2,
       "version_minor": 0
      },
      "text/plain": [
       "  0%|          | 0/1000 [00:00<?, ?it/s]"
      ]
     },
     "metadata": {},
     "output_type": "display_data"
    },
    {
     "name": "stderr",
     "output_type": "stream",
     "text": [
      "[I 2023-09-29 21:10:01,541] Trial 9 finished with value: 0.11352915316820145 and parameters: {'hidden_features': 24, 'lr': 0.016437918062061522, 'optimizer': 'sgd', 'initialization': 'glorot_normal', 'activation function': 'relu'}. Best is trial 5 with value: 0.00010031948477262631.\n"
     ]
    }
   ],
   "source": [
    "study.optimize(objective, n_trials=10)"
   ]
  },
  {
   "cell_type": "markdown",
   "metadata": {},
   "source": [
    "## Visualize best plots"
   ]
  },
  {
   "cell_type": "code",
   "execution_count": 5,
   "metadata": {},
   "outputs": [
    {
     "name": "stderr",
     "output_type": "stream",
     "text": [
      "/var/folders/mv/cckpw89s2jjd622p9pywk0nm0000gn/T/ipykernel_36566/1036994904.py:1: ExperimentalWarning: plot_param_importances is experimental (supported from v2.2.0). The interface can change in the future.\n",
      "  optuna.visualization.matplotlib.plot_param_importances(study)\n"
     ]
    },
    {
     "data": {
      "text/plain": [
       "<Axes: title={'center': 'Hyperparameter Importances'}, xlabel='Importance for Objective Value', ylabel='Hyperparameter'>"
      ]
     },
     "execution_count": 5,
     "metadata": {},
     "output_type": "execute_result"
    },
    {
     "data": {
      "image/png": "[encoded data removed]",
      "text/plain": [
       "<Figure size 640x480 with 1 Axes>"
      ]
     },
     "metadata": {},
     "output_type": "display_data"
    }
   ],
   "source": [
    "optuna.visualization.matplotlib.plot_param_importances(study)"
   ]
  },
  {
   "cell_type": "code",
   "execution_count": 6,
   "metadata": {},
   "outputs": [
    {
     "data": {
      "text/plain": [
       "{'hidden_features': 29,\n",
       " 'lr': 0.018516682771811458,\n",
       " 'optimizer': 'adam',\n",
       " 'initialization': 'he_normal',\n",
       " 'activation function': 'relu'}"
      ]
     },
     "execution_count": 6,
     "metadata": {},
     "output_type": "execute_result"
    }
   ],
   "source": [
    "study.best_params"
   ]
  }
 ],
 "metadata": {
  "kernelspec": {
   "display_name": "py311",
   "language": "python",
   "name": "python3"
  },
  "language_info": {
   "codemirror_mode": {
    "name": "ipython",
    "version": 3
   },
   "file_extension": ".py",
   "mimetype": "text/x-python",
   "name": "python",
   "nbconvert_exporter": "python",
   "pygments_lexer": "ipython3",
   "version": "3.11.0"
  },
  "orig_nbformat": 4
 },
 "nbformat": 4,
 "nbformat_minor": 2
}
