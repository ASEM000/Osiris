{
 "cells": [
  {
   "cell_type": "markdown",
   "metadata": {},
   "source": [
    "#  👀 Layers overview"
   ]
  },
  {
   "cell_type": "code",
   "execution_count": 1,
   "metadata": {},
   "outputs": [],
   "source": [
    "!pip install git+https://github.com/ASEM000/serket --quiet"
   ]
  },
  {
   "cell_type": "markdown",
   "metadata": {},
   "source": [
    "## `serket` general design features"
   ]
  },
  {
   "cell_type": "markdown",
   "metadata": {},
   "source": [
    "### Lazy shape inference"
   ]
  },
  {
   "cell_type": "markdown",
   "metadata": {},
   "source": [
    "**Marking the layer lazy**"
   ]
  },
  {
   "cell_type": "code",
   "execution_count": 1,
   "metadata": {},
   "outputs": [],
   "source": [
    "import jax\n",
    "import serket as sk\n",
    "import jax.random as jr\n",
    "\n",
    "# 5 images from MNIST\n",
    "x = jax.numpy.ones([5, 1, 28, 28])\n",
    "\n",
    "layer = sk.Sequential(\n",
    "    jax.numpy.ravel,\n",
    "    # lazy in_features inference pass `None`\n",
    "    sk.nn.Linear(None, 10, key=jr.PRNGKey(0)),\n",
    "    jax.nn.relu,\n",
    "    sk.nn.Linear(10, 10, key=jr.PRNGKey(1)),\n",
    "    jax.nn.softmax,\n",
    ")"
   ]
  },
  {
   "cell_type": "markdown",
   "metadata": {},
   "source": [
    "**Materialization by functional call**"
   ]
  },
  {
   "cell_type": "code",
   "execution_count": 2,
   "metadata": {},
   "outputs": [
    {
     "data": {
      "text/plain": [
       "(5, 10)"
      ]
     },
     "execution_count": 2,
     "metadata": {},
     "output_type": "execute_result"
    }
   ],
   "source": [
    "# materialize the layer with single image\n",
    "_, layer = sk.value_and_tree(lambda layer: layer(x[0]))(layer)\n",
    "# apply on batch\n",
    "y = jax.vmap(layer)(x)\n",
    "y.shape"
   ]
  },
  {
   "cell_type": "markdown",
   "metadata": {},
   "source": [
    "## FFT variant\n",
    "\n",
    "`serekt` offers `FFT` variant for most of the convolution layers. \n",
    "The ``fft`` convolution variant is useful in myriad of cases, specifically the ``fft`` variant could be faster for larger kernel sizes. the following figure compares the speed of both implementation.\n",
    "    \n",
    "\n",
    "<img src=\"../_static/fft_bench.svg\" width=\"600\" align=\"center\">\n",
    "\n",
    "The benchmark use ``FFTConv2D`` against ``Conv2D`` with ``in_features=3``, ``out_features=64``, and ``input_size=(10, 3, 128, 128)``"
   ]
  }
 ],
 "metadata": {
  "kernelspec": {
   "display_name": "dev-jax",
   "language": "python",
   "name": "python3"
  },
  "language_info": {
   "codemirror_mode": {
    "name": "ipython",
    "version": 3
   },
   "file_extension": ".py",
   "mimetype": "text/x-python",
   "name": "python",
   "nbconvert_exporter": "python",
   "pygments_lexer": "ipython3",
   "version": "3.11.0"
  },
  "orig_nbformat": 4
 },
 "nbformat": 4,
 "nbformat_minor": 2
}
