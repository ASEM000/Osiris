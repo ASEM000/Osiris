{
 "cells": [
  {
   "cell_type": "markdown",
   "metadata": {},
   "source": [
    "# 📙 `serket.nn` layers overview"
   ]
  },
  {
   "cell_type": "markdown",
   "metadata": {},
   "source": [
    "## `serket` general design features"
   ]
  },
  {
   "cell_type": "markdown",
   "metadata": {},
   "source": [
    "**Handling weight initalization**\n",
    "\n",
    "Layers that contain `weight_init` or `bias_init` can accept:\n",
    "- A string: \n",
    "    - `he_normal`\n",
    "    - `he_uniform`\n",
    "    - `glorot_normal`\n",
    "    - `glorot_uniform`\n",
    "    - `lecun_normal`\n",
    "    - `lecun_uniform`\n",
    "    - `normal`\n",
    "    - `uniform`\n",
    "    - `ones`\n",
    "    - `zeros`\n",
    "    - `xavier_normal`\n",
    "    - `xavier_uniform`\n",
    "    - `orthogonal`\n",
    "\n",
    "\n",
    "- A function with the following signature `key:jax.random.KeyArray, shape:tuple[int,...], dtype`.\n",
    "- `None` to indicate no initialization (e.g no bias for layers that have `bias_init` argument).\n",
    "- A registered string by `sk.def_init_entry(\"my_init\", ....)` to map to custom init function."
   ]
  },
  {
   "cell_type": "code",
   "execution_count": 1,
   "metadata": {},
   "outputs": [
    {
     "name": "stdout",
     "output_type": "stream",
     "text": [
      "[[0. 1. 2. 3. 4. 5. 6. 7. 8. 9.]]\n",
      "[[0. 1. 2. 3. 4. 5. 6. 7. 8. 9.]]\n"
     ]
    }
   ],
   "source": [
    "import serket as sk\n",
    "import jax\n",
    "import math\n",
    "\n",
    "# 1) linear layer with no bias\n",
    "linear = sk.nn.Linear(1, 10, weight_init=\"he_normal\", bias_init=None)\n",
    "\n",
    "\n",
    "# linear layer with custom initialization function\n",
    "def init_func(key, shape, dtype=jax.numpy.float32):\n",
    "    return jax.numpy.arange(math.prod(shape), dtype=dtype).reshape(shape)\n",
    "\n",
    "\n",
    "linear = sk.nn.Linear(1, 10, weight_init=init_func, bias_init=None)\n",
    "print(linear.weight)\n",
    "# [[0. 1. 2. 3. 4. 5. 6. 7. 8. 9.]]\n",
    "\n",
    "# linear layer with custom initialization function registered under a key\n",
    "sk.def_init_entry(\"my_init\", init_func)\n",
    "linear = sk.nn.Linear(1, 10, weight_init=\"my_init\", bias_init=None)\n",
    "print(linear.weight)"
   ]
  },
  {
   "cell_type": "markdown",
   "metadata": {},
   "source": [
    "**Handling activation functions**\n",
    "\n",
    "Layers that contain `act_func` accepts:\n",
    "- A string: \n",
    "    - `adaptive_leaky_relu`\n",
    "    - `adaptive_relu`\n",
    "    - `adaptive_sigmoid`\n",
    "    - `adaptive_tanh`\n",
    "    - `celu`\n",
    "    - `elu`\n",
    "    - `gelu`\n",
    "    - `glu`\n",
    "    - `hard_shrink`\n",
    "    - `hard_sigmoid`\n",
    "    - `hard_swish`\n",
    "    - `hard_tanh`\n",
    "    - `leaky_relu`\n",
    "    - `log_sigmoid`\n",
    "    - `log_softmax`\n",
    "    - `mish`\n",
    "    - `prelu`\n",
    "    - `relu`\n",
    "    - `relu6`\n",
    "    - `selu`\n",
    "    - `sigmoid`\n",
    "    - `snake`\n",
    "    - `softplus`\n",
    "    - `softshrink`\n",
    "    - `softsign`\n",
    "    - `squareplus`\n",
    "    - `swish`\n",
    "    - `tanh`\n",
    "    - `tanh_shrink`\n",
    "    - `thresholded_relu`\n",
    "\n",
    "\n",
    "- A function of single input and output of `jax.Array`.\n",
    "- A registered string by `sk.def_act_entry(\"my_act\", ....)` to map to custom activation class with a `__call__` method."
   ]
  },
  {
   "cell_type": "code",
   "execution_count": 2,
   "metadata": {},
   "outputs": [],
   "source": [
    "import serket as sk\n",
    "import jax\n",
    "\n",
    "# 1) activation function with a string\n",
    "linear = sk.nn.FNN([1, 1], act_func=\"relu\")\n",
    "\n",
    "# 2) activation function with a function\n",
    "linear = sk.nn.FNN([1, 1], act_func=jax.nn.relu)\n",
    "\n",
    "\n",
    "@sk.autoinit\n",
    "class MyTrainableActivation(sk.TreeClass):\n",
    "    my_param: float = 10.0\n",
    "\n",
    "    def __call__(self, x):\n",
    "        return x * self.my_param\n",
    "\n",
    "\n",
    "# 3) activation function with a class\n",
    "linear = sk.nn.FNN([1, 1], act_func=MyTrainableActivation())\n",
    "\n",
    "# 4) activation function with a registered class\n",
    "sk.def_act_entry(\"my_act\", MyTrainableActivation)\n",
    "linear = sk.nn.FNN([1, 1], act_func=\"my_act\")"
   ]
  },
  {
   "cell_type": "markdown",
   "metadata": {},
   "source": [
    "**Handling dtype**\n",
    "\n",
    "Layers that contain `dtype`, accept any valid `numpy.dtype` variant. this is useful if mixed precision policy is desired. see the example on mixed precision.\n"
   ]
  },
  {
   "cell_type": "code",
   "execution_count": 3,
   "metadata": {},
   "outputs": [
    {
     "data": {
      "text/plain": [
       "Linear(\n",
       "  in_features=(10), \n",
       "  out_features=5, \n",
       "  weight_init=he_normal, \n",
       "  bias_init=ones, \n",
       "  weight=f16[10,5](μ=0.08, σ=0.43, ∈[-1.01,0.87]), \n",
       "  bias=f16[5](μ=1.00, σ=0.00, ∈[1.00,1.00])\n",
       ")"
      ]
     },
     "execution_count": 3,
     "metadata": {},
     "output_type": "execute_result"
    }
   ],
   "source": [
    "import serket as sk\n",
    "import jax\n",
    "\n",
    "linear = sk.nn.Linear(10, 5, dtype=jax.numpy.float16)\n",
    "linear\n",
    "# note the dtype is f16(float16) in the repr output"
   ]
  }
 ],
 "metadata": {
  "kernelspec": {
   "display_name": "dev-jax",
   "language": "python",
   "name": "python3"
  },
  "language_info": {
   "codemirror_mode": {
    "name": "ipython",
    "version": 3
   },
   "file_extension": ".py",
   "mimetype": "text/x-python",
   "name": "python",
   "nbconvert_exporter": "python",
   "pygments_lexer": "ipython3",
   "version": "3.10.0"
  },
  "orig_nbformat": 4
 },
 "nbformat": 4,
 "nbformat_minor": 2
}
