{
 "cells": [
  {
   "cell_type": "markdown",
   "metadata": {},
   "source": [
    "#  👀 Layers overview"
   ]
  },
  {
   "cell_type": "code",
   "execution_count": 1,
   "metadata": {},
   "outputs": [],
   "source": [
    "!pip install git+https://github.com/ASEM000/serket --quiet"
   ]
  },
  {
   "cell_type": "markdown",
   "metadata": {},
   "source": [
    "## `serket` general design features"
   ]
  },
  {
   "cell_type": "markdown",
   "metadata": {},
   "source": [
    "### Handling weight initalization\n",
    "\n"
   ]
  },
  {
   "cell_type": "markdown",
   "metadata": {},
   "source": [
    "Layers that contain `weight_init` or `bias_init` can accept:\n",
    "\n",
    "- A string: \n",
    "    - `he_normal`\n",
    "    - `he_uniform`\n",
    "    - `glorot_normal`\n",
    "    - `glorot_uniform`\n",
    "    - `lecun_normal`\n",
    "    - `lecun_uniform`\n",
    "    - `normal`\n",
    "    - `uniform`\n",
    "    - `ones`\n",
    "    - `zeros`\n",
    "    - `xavier_normal`\n",
    "    - `xavier_uniform`\n",
    "    - `orthogonal`\n",
    "- A function with the following signature `key:jax.Array, shape:tuple[int,...], dtype`.\n",
    "- `None` to indicate no initialization (e.g no bias for layers that have `bias_init` argument).\n",
    "- A registered string by `sk.def_init_entry(\"my_init\", ....)` to map to custom init function."
   ]
  },
  {
   "cell_type": "code",
   "execution_count": 2,
   "metadata": {},
   "outputs": [
    {
     "name": "stdout",
     "output_type": "stream",
     "text": [
      "[[0. 1. 2. 3. 4. 5. 6. 7. 8. 9.]]\n",
      "[[0. 1. 2. 3. 4. 5. 6. 7. 8. 9.]]\n"
     ]
    }
   ],
   "source": [
    "import serket as sk\n",
    "import jax\n",
    "import math\n",
    "import jax.random as jr\n",
    "\n",
    "# 1) linear layer with no bias\n",
    "linear = sk.nn.Linear(1, 10, weight_init=\"he_normal\", bias_init=None, key=jr.PRNGKey(0))\n",
    "\n",
    "\n",
    "# linear layer with custom initialization function\n",
    "def init_func(key, shape, dtype=jax.numpy.float32):\n",
    "    return jax.numpy.arange(math.prod(shape), dtype=dtype).reshape(shape)\n",
    "\n",
    "\n",
    "linear = sk.nn.Linear(1, 10, weight_init=init_func, bias_init=None, key=jr.PRNGKey(0))\n",
    "print(linear.weight)\n",
    "# [[0. 1. 2. 3. 4. 5. 6. 7. 8. 9.]]\n",
    "\n",
    "# linear layer with custom initialization function registered under a key\n",
    "sk.def_init_entry(\"my_init\", init_func)\n",
    "linear = sk.nn.Linear(1, 10, weight_init=\"my_init\", bias_init=None, key=jr.PRNGKey(0))\n",
    "print(linear.weight)"
   ]
  },
  {
   "cell_type": "markdown",
   "metadata": {},
   "source": [
    "### Handling activation functions"
   ]
  },
  {
   "cell_type": "markdown",
   "metadata": {},
   "source": [
    "Layers that contain `act_func` accepts:\n",
    "\n",
    "- A string: \n",
    "    - `adaptive_leaky_relu`\n",
    "    - `adaptive_relu`\n",
    "    - `adaptive_sigmoid`\n",
    "    - `adaptive_tanh`\n",
    "    - `celu`\n",
    "    - `elu`\n",
    "    - `gelu`\n",
    "    - `glu`\n",
    "    - `hard_shrink`\n",
    "    - `hard_sigmoid`\n",
    "    - `hard_swish`\n",
    "    - `hard_tanh`\n",
    "    - `leaky_relu`\n",
    "    - `log_sigmoid`\n",
    "    - `log_softmax`\n",
    "    - `mish`\n",
    "    - `prelu`\n",
    "    - `relu`\n",
    "    - `relu6`\n",
    "    - `selu`\n",
    "    - `sigmoid`\n",
    "    - `snake`\n",
    "    - `softplus`\n",
    "    - `softshrink`\n",
    "    - `softsign`\n",
    "    - `squareplus`\n",
    "    - `swish`\n",
    "    - `tanh`\n",
    "    - `tanh_shrink`\n",
    "    - `thresholded_relu`\n",
    "- A function of single input and output of `jax.Array`.\n",
    "- A registered string by `sk.def_act_entry(\"my_act\", ....)` to map to custom activation class with a `__call__` method."
   ]
  },
  {
   "cell_type": "code",
   "execution_count": 3,
   "metadata": {},
   "outputs": [],
   "source": [
    "import serket as sk\n",
    "import jax\n",
    "import jax.random as jr\n",
    "\n",
    "# 1) activation function with a string\n",
    "linear = sk.nn.FNN([1, 1], act=\"relu\", key=jr.PRNGKey(0))\n",
    "\n",
    "# 2) activation function with a function\n",
    "linear = sk.nn.FNN([1, 1], act=jax.nn.relu, key=jr.PRNGKey(0))\n",
    "\n",
    "\n",
    "@sk.autoinit\n",
    "class MyTrainableActivation(sk.TreeClass):\n",
    "    my_param: float = 10.0\n",
    "\n",
    "    def __call__(self, x):\n",
    "        return x * self.my_param\n",
    "\n",
    "\n",
    "# 3) activation function with a class\n",
    "linear = sk.nn.FNN([1, 1], act=MyTrainableActivation(), key=jr.PRNGKey(0))\n",
    "\n",
    "# 4) activation function with a registered class\n",
    "sk.def_act_entry(\"my_act\", MyTrainableActivation())\n",
    "linear = sk.nn.FNN([1, 1], act=\"my_act\", key=jr.PRNGKey(0))"
   ]
  },
  {
   "cell_type": "markdown",
   "metadata": {},
   "source": [
    "### Handling dtype"
   ]
  },
  {
   "cell_type": "markdown",
   "metadata": {},
   "source": [
    "Layers that contain `dtype`, accept any valid `numpy.dtype` variant. this is useful if mixed precision policy is desired. For more, see the example on mixed precision training.\n"
   ]
  },
  {
   "cell_type": "code",
   "execution_count": 4,
   "metadata": {},
   "outputs": [
    {
     "data": {
      "text/plain": [
       "Linear(\n",
       "  in_features=(10), \n",
       "  out_features=5, \n",
       "  weight_init=glorot_uniform, \n",
       "  bias_init=zeros, \n",
       "  weight=f16[10,5](μ=0.07, σ=0.35, ∈[-0.63,0.60]), \n",
       "  bias=f16[5](μ=0.00, σ=0.00, ∈[0.00,0.00])\n",
       ")"
      ]
     },
     "execution_count": 4,
     "metadata": {},
     "output_type": "execute_result"
    }
   ],
   "source": [
    "import serket as sk\n",
    "import jax\n",
    "import jax.random as jr\n",
    "\n",
    "linear = sk.nn.Linear(10, 5, dtype=jax.numpy.float16, key=jr.PRNGKey(0))\n",
    "linear\n",
    "# note the dtype is f16(float16) in the repr output"
   ]
  },
  {
   "cell_type": "markdown",
   "metadata": {},
   "source": [
    "### Lazy shape inference"
   ]
  },
  {
   "cell_type": "markdown",
   "metadata": {},
   "source": [
    "Lazy initialization is useful in scenarios where the dimensions of certain input features are not known in advance. For instance, when the number of neurons required for a flattened image input is uncertain, or the shape of the output from a flattened convolutional layer is not straightforward to calculate. In such cases, lazy initialization defers layers materialization until the first input.\n",
    "\n",
    "In `serket`, simply replace `in_features` with `None` to indicate that this layer is lazy. then materialzie the layer by functionally calling the layer. Recall that functional call - via `.at[method_name](*args, **kwargs)` _always_ returns a tuple of method output and a _new_ instance."
   ]
  },
  {
   "cell_type": "markdown",
   "metadata": {},
   "source": [
    "**Marking the layer lazy**"
   ]
  },
  {
   "cell_type": "code",
   "execution_count": 1,
   "metadata": {},
   "outputs": [],
   "source": [
    "import jax\n",
    "import serket as sk\n",
    "import jax.random as jr\n",
    "\n",
    "# 5 images from MNIST\n",
    "x = jax.numpy.ones([5, 1, 28, 28])\n",
    "\n",
    "layer = sk.Sequential(\n",
    "    jax.numpy.ravel,\n",
    "    # lazy in_features inference pass `None`\n",
    "    sk.nn.Linear(None, 10, key=jr.PRNGKey(0)),\n",
    "    jax.nn.relu,\n",
    "    sk.nn.Linear(10, 10, key=jr.PRNGKey(1)),\n",
    "    jax.nn.softmax,\n",
    ")"
   ]
  },
  {
   "cell_type": "markdown",
   "metadata": {},
   "source": [
    "**Materialization by functional call**"
   ]
  },
  {
   "cell_type": "code",
   "execution_count": 2,
   "metadata": {},
   "outputs": [
    {
     "data": {
      "text/plain": [
       "(5, 10)"
      ]
     },
     "execution_count": 2,
     "metadata": {},
     "output_type": "execute_result"
    }
   ],
   "source": [
    "# materialize the layer with single image\n",
    "_, layer = sk.value_and_tree(lambda layer: layer(x[0]))(layer)\n",
    "# apply on batch\n",
    "y = jax.vmap(layer)(x)\n",
    "y.shape"
   ]
  },
  {
   "cell_type": "markdown",
   "metadata": {},
   "source": [
    "## FFT variant\n",
    "\n",
    "`serekt` offers `FFT` variant for most of the convolution layers. \n",
    "The ``fft`` convolution variant is useful in myriad of cases, specifically the ``fft`` variant could be faster for larger kernel sizes. the following figure compares the speed of both implementation.\n",
    "    \n",
    "\n",
    "<img src=\"../_static/fft_bench.svg\" width=\"600\" align=\"center\">\n",
    "\n",
    "The benchmark use ``FFTConv2D`` against ``Conv2D`` with ``in_features=3``, ``out_features=64``, and ``input_size=(10, 3, 128, 128)``"
   ]
  }
 ],
 "metadata": {
  "kernelspec": {
   "display_name": "dev-jax",
   "language": "python",
   "name": "python3"
  },
  "language_info": {
   "codemirror_mode": {
    "name": "ipython",
    "version": 3
   },
   "file_extension": ".py",
   "mimetype": "text/x-python",
   "name": "python",
   "nbconvert_exporter": "python",
   "pygments_lexer": "ipython3",
   "version": "3.11.0"
  },
  "orig_nbformat": 4
 },
 "nbformat": 4,
 "nbformat_minor": 2
}
