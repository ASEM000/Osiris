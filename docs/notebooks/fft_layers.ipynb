{
 "cells": [
  {
   "cell_type": "markdown",
   "metadata": {},
   "source": [
    "# 📶 FFT layers\n",
    "\n",
    "`serket` has `FFT` variant for the convolution layers, the folllowing code example compares the normal convolution based on `jax.lax.general_conv_...` and `serket` based `FFT` variant for varying kernel size"
   ]
  },
  {
   "cell_type": "code",
   "execution_count": 29,
   "metadata": {},
   "outputs": [
    {
     "name": "stdout",
     "output_type": "stream",
     "text": [
      "94.6 ms ± 7.92 ms per loop (mean ± std. dev. of 7 runs, 10 loops each)\n",
      "21.1 ms ± 915 µs per loop (mean ± std. dev. of 7 runs, 10 loops each)\n",
      "91.8 ms ± 6.29 ms per loop (mean ± std. dev. of 7 runs, 10 loops each)\n",
      "31.7 ms ± 2.38 ms per loop (mean ± std. dev. of 7 runs, 10 loops each)\n",
      "196 ms ± 13.7 ms per loop (mean ± std. dev. of 7 runs, 1 loop each)\n",
      "54.3 ms ± 7.74 ms per loop (mean ± std. dev. of 7 runs, 10 loops each)\n",
      "102 ms ± 9.26 ms per loop (mean ± std. dev. of 7 runs, 10 loops each)\n",
      "64.8 ms ± 5.43 ms per loop (mean ± std. dev. of 7 runs, 10 loops each)\n",
      "137 ms ± 5.88 ms per loop (mean ± std. dev. of 7 runs, 10 loops each)\n",
      "230 ms ± 8.63 ms per loop (mean ± std. dev. of 7 runs, 1 loop each)\n",
      "404 ms ± 22.5 ms per loop (mean ± std. dev. of 7 runs, 1 loop each)\n",
      "1.38 s ± 125 ms per loop (mean ± std. dev. of 7 runs, 1 loop each)\n",
      "318 ms ± 8.06 ms per loop (mean ± std. dev. of 7 runs, 1 loop each)\n",
      "4.54 s ± 81.4 ms per loop (mean ± std. dev. of 7 runs, 1 loop each)\n"
     ]
    },
    {
     "data": {
      "text/plain": [
       "<matplotlib.legend.Legend at 0x29600b2e0>"
      ]
     },
     "execution_count": 29,
     "metadata": {},
     "output_type": "execute_result"
    },
    {
     "data": {
      "image/png": "[encoded data removed]",
      "text/plain": [
       "<Figure size 640x480 with 1 Axes>"
      ]
     },
     "metadata": {},
     "output_type": "display_data"
    }
   ],
   "source": [
    "import serket as sk \n",
    "import jax\n",
    "import numpy.testing as npt\n",
    "import matplotlib.pyplot as plt\n",
    "\n",
    "x = jax.numpy.ones([10, 3, 128, 128], dtype=jax.numpy.float32)\n",
    "\n",
    "fft_times = {}\n",
    "conv_times = {}\n",
    "\n",
    "for kernel_size in [3,5, 7, 9, 21, 51, 101]:\n",
    "\n",
    "    @jax.jit\n",
    "    def fftconv(x):\n",
    "        return sk.nn.FFTConv2D(3, 64, kernel_size)(x)\n",
    "    \n",
    "    @jax.jit\n",
    "    def conv(x):\n",
    "        return sk.nn.Conv2D(3, 64, kernel_size)(x)\n",
    "    \n",
    "    npt.assert_allclose(jax.vmap(fftconv)(x), jax.vmap(conv)(x), atol=1e-5)\n",
    "\n",
    "    fft_times[kernel_size] = %timeit -o jax.vmap(fftconv)(x)\n",
    "    conv_times[kernel_size] = %timeit -o jax.vmap(conv)(x)\n",
    "\n",
    "\n",
    "# construct the timing results\n",
    "\n",
    "k,t = zip(*fft_times.items())\n",
    "t = [t.average for t in t]\n",
    "\n",
    "plt.scatter(k,t , label='fft')\n",
    "\n",
    "k,t = zip(*conv_times.items())\n",
    "t = [t.average for t in t]\n",
    "\n",
    "plt.scatter(k,t , label='conv')\n",
    "plt.xticks(k)\n",
    "plt.xlabel('kernel size')\n",
    "plt.ylabel('time (s)')\n",
    "plt.legend()"
   ]
  }
 ],
 "metadata": {
  "kernelspec": {
   "display_name": "dev-jax",
   "language": "python",
   "name": "python3"
  },
  "language_info": {
   "codemirror_mode": {
    "name": "ipython",
    "version": 3
   },
   "file_extension": ".py",
   "mimetype": "text/x-python",
   "name": "python",
   "nbconvert_exporter": "python",
   "pygments_lexer": "ipython3",
   "version": "3.10.0"
  },
  "orig_nbformat": 4
 },
 "nbformat": 4,
 "nbformat_minor": 2
}
