{
 "cells": [
  {
   "attachments": {},
   "cell_type": "markdown",
   "metadata": {},
   "source": [
    "# 🗂️  Misc recipes"
   ]
  },
  {
   "cell_type": "code",
   "execution_count": 1,
   "metadata": {},
   "outputs": [],
   "source": [
    "# !pip install git+https://github.com/ASEM000/serket --quiet"
   ]
  },
  {
   "attachments": {},
   "cell_type": "markdown",
   "metadata": {},
   "source": [
    "This section introduces some miscellaneous recipes that are not covered in the previous sections."
   ]
  },
  {
   "attachments": {},
   "cell_type": "markdown",
   "metadata": {},
   "source": [
    "## [1] Lazy layers.\n",
    "In this example, a `Linear` layer with a weight parameter based on the shape of the input will be created. Since this requires parameter creation (i.e., `weight`) after instance initialization, we will use `.at` to create a new instance with the added parameter."
   ]
  },
  {
   "cell_type": "code",
   "execution_count": 2,
   "metadata": {},
   "outputs": [
    {
     "name": "stdout",
     "output_type": "stream",
     "text": [
      "Layer before param is set:\tLazyLinear(out_features=1)\n",
      "Layer after param is set:\tLazyLinear(out_features=1, weight=[[1.]], bias=[0.])\n"
     ]
    },
    {
     "data": {
      "text/plain": [
       "Array([[1.],\n",
       "       [1.],\n",
       "       [1.],\n",
       "       [1.],\n",
       "       [1.],\n",
       "       [1.],\n",
       "       [1.],\n",
       "       [1.],\n",
       "       [1.],\n",
       "       [1.]], dtype=float32)"
      ]
     },
     "execution_count": 2,
     "metadata": {},
     "output_type": "execute_result"
    }
   ],
   "source": [
    "import serket as sk\n",
    "from typing import Any\n",
    "import jax\n",
    "import jax.numpy as jnp\n",
    "import jax.random as jr\n",
    "\n",
    "\n",
    "@sk.autoinit\n",
    "class LazyLinear(sk.TreeClass):\n",
    "    out_features: int\n",
    "\n",
    "    def param(self, name: str, value: Any):\n",
    "        # return the value if it exists, otherwise set it and return it\n",
    "        if name not in vars(self):\n",
    "            setattr(self, name, value)\n",
    "        return vars(self)[name]\n",
    "\n",
    "    def __call__(self, x: jax.Array, *, key: jax.Array = jr.PRNGKey(0)):\n",
    "        weight = self.param(\"weight\", jnp.ones((x.shape[-1], self.out_features)))\n",
    "        bias = self.param(\"bias\", jnp.zeros((self.out_features,)))\n",
    "        return x @ weight + bias\n",
    "\n",
    "\n",
    "x = jnp.ones([10, 1])\n",
    "\n",
    "lazy_linear = LazyLinear(out_features=1)\n",
    "\n",
    "lazy_linear\n",
    "print(f\"Layer before param is set:\\t{lazy_linear}\")\n",
    "\n",
    "\n",
    "# first call will set the parameters\n",
    "_, linear = lazy_linear.at[\"__call__\"](x, key=jr.PRNGKey(0))\n",
    "\n",
    "print(f\"Layer after param is set:\\t{linear}\")\n",
    "# subsequent calls will use the same parameters and not set them again\n",
    "linear(x)"
   ]
  },
  {
   "attachments": {},
   "cell_type": "markdown",
   "metadata": {},
   "source": [
    "## [2] Intermediates handling.\n",
    "\n",
    "This example shows how to capture specific intermediate values within each function call in this example."
   ]
  },
  {
   "cell_type": "code",
   "execution_count": 3,
   "metadata": {},
   "outputs": [
    {
     "name": "stdout",
     "output_type": "stream",
     "text": [
      "Intermediate values:\t\n",
      " (Array([[0. ],\n",
      "       [0.5],\n",
      "       [1. ],\n",
      "       [1.5],\n",
      "       [2. ]], dtype=float32), Array([[-0.09999937],\n",
      "       [ 0.40000063],\n",
      "       [ 0.90000063],\n",
      "       [ 1.4000006 ],\n",
      "       [ 1.9000006 ]], dtype=float32))\n",
      "\n",
      "Final tree:\t\n",
      " Tree(a=0.801189)\n"
     ]
    }
   ],
   "source": [
    "from typing import Any\n",
    "import serket as sk\n",
    "import jax\n",
    "import optax\n",
    "import jax.numpy as jnp\n",
    "\n",
    "\n",
    "@sk.autoinit\n",
    "class Tree(sk.TreeClass):\n",
    "    a: float = 1.0\n",
    "\n",
    "    def __call__(self, x: jax.Array, intermediate: tuple[Any, ...]):\n",
    "        x = x + self.a\n",
    "        # store intermediate variables\n",
    "        return x, intermediate + (x,)\n",
    "\n",
    "\n",
    "def loss_func(tree: Tree, x: jax.Array, y: jax.Array, intermediate: tuple[Any, ...]):\n",
    "    ypred, intermediate = tree(x, intermediate)\n",
    "    loss = jnp.mean((ypred - y) ** 2)\n",
    "    return loss, intermediate\n",
    "\n",
    "\n",
    "@jax.jit\n",
    "def train_step(\n",
    "    tree: Tree,\n",
    "    optim_state: optax.OptState,\n",
    "    x: jax.Array,\n",
    "    y: jax.Array,\n",
    "    intermediate: tuple[Any, ...],\n",
    "):\n",
    "    grads, intermediate = jax.grad(loss_func, has_aux=True)(tree, x, y, intermediate)\n",
    "    updates, optim_state = optim.update(grads, optim_state)\n",
    "    tree = optax.apply_updates(tree, updates)\n",
    "    return tree, optim_state, intermediate\n",
    "\n",
    "\n",
    "tree = Tree()\n",
    "optim = optax.adam(1e-1)\n",
    "optim_state = optim.init(tree)\n",
    "\n",
    "x = jnp.linspace(-1, 1, 5)[:, None]\n",
    "y = x**2\n",
    "\n",
    "intermediate = ()\n",
    "\n",
    "for i in range(2):\n",
    "    tree, optim_state, intermediate = train_step(tree, optim_state, x, y, intermediate)\n",
    "\n",
    "\n",
    "print(\"Intermediate values:\\t\\n\", intermediate)\n",
    "print(\"\\nFinal tree:\\t\\n\", tree)"
   ]
  },
  {
   "cell_type": "markdown",
   "metadata": {},
   "source": [
    "## [3] Data pipelines\n",
    "\n",
    "In this example, `AtIndexer` is used in similar fashion to [PyFunctional](https://github.com/EntilZha/PyFunctional) to work on general data pipelines."
   ]
  },
  {
   "cell_type": "code",
   "execution_count": 4,
   "metadata": {},
   "outputs": [
    {
     "data": {
      "text/plain": [
       "25"
      ]
     },
     "execution_count": 4,
     "metadata": {},
     "output_type": "execute_result"
    }
   ],
   "source": [
    "from serket import AtIndexer\n",
    "import jax\n",
    "\n",
    "\n",
    "class Transaction:\n",
    "    def __init__(self, reason, amount):\n",
    "        self.reason = reason\n",
    "        self.amount = amount\n",
    "\n",
    "\n",
    "# this example copied from  https://github.com/EntilZha/PyFunctional\n",
    "transactions = [\n",
    "    Transaction(\"github\", 7),\n",
    "    Transaction(\"food\", 10),\n",
    "    Transaction(\"coffee\", 5),\n",
    "    Transaction(\"digitalocean\", 5),\n",
    "    Transaction(\"food\", 5),\n",
    "    Transaction(\"riotgames\", 25),\n",
    "    Transaction(\"food\", 10),\n",
    "    Transaction(\"amazon\", 200),\n",
    "    Transaction(\"paycheck\", -1000),\n",
    "]\n",
    "\n",
    "indexer = AtIndexer(transactions)\n",
    "where = jax.tree_map(lambda x: x.reason == \"food\", transactions)\n",
    "food_cost = indexer[where].reduce(lambda x, y: x + y.amount, initializer=0)\n",
    "food_cost"
   ]
  },
  {
   "cell_type": "markdown",
   "metadata": {},
   "source": [
    "## [4] Regularization\n",
    "\n",
    "The following code showcase how to use `at` functionality to select some leaves of a model based on boolean mask or/and name condition to apply some weight regualrization on them. For example using `.at[...]` functionality the following can be achieved concisely:"
   ]
  },
  {
   "cell_type": "markdown",
   "metadata": {},
   "source": [
    "### Boolean-based mask\n",
    "\n",
    "The entries of the arrays or leaves are selected based on a tree of the same structure but with boolean (`True`/`False`) leave. The `True` leaf points to place where the operation can be done, while `False` leaf is indicating that this leaf should not be touched."
   ]
  },
  {
   "cell_type": "code",
   "execution_count": 5,
   "metadata": {},
   "outputs": [
    {
     "name": "stdout",
     "output_type": "stream",
     "text": [
      "2.8333335\n"
     ]
    }
   ],
   "source": [
    "import serket as sk\n",
    "import jax.numpy as jnp\n",
    "import jax\n",
    "\n",
    "\n",
    "class Net(sk.TreeClass):\n",
    "    def __init__(self):\n",
    "        self.weight = jnp.array([-1, -2, -3, 1, 2, 3])\n",
    "        self.bias = jnp.array([-1, 1])\n",
    "\n",
    "\n",
    "def negative_entries_l2_loss(net: Net):\n",
    "    return (\n",
    "        # select all positive array entries\n",
    "        net.at[jax.tree_map(lambda x: x > 0, net)]\n",
    "        # set them to zero to exclude their loss\n",
    "        .set(0)\n",
    "        # select all leaves\n",
    "        .at[...]\n",
    "        # finally reduce with l2 loss\n",
    "        .reduce(lambda x, y: x + jnp.mean(y**2), initializer=0)\n",
    "    )\n",
    "\n",
    "\n",
    "net = Net()\n",
    "print(negative_entries_l2_loss(net))"
   ]
  },
  {
   "cell_type": "markdown",
   "metadata": {},
   "source": [
    "### Name-based mask\n",
    "\n",
    "In this step, the mask is based on the path of the leaf."
   ]
  },
  {
   "cell_type": "code",
   "execution_count": 6,
   "metadata": {},
   "outputs": [
    {
     "name": "stdout",
     "output_type": "stream",
     "text": [
      "Linear(\n",
      "  in_features=(1), \n",
      "  out_features=1, \n",
      "  in_axis=(-1), \n",
      "  out_axis=-1, \n",
      "  weight_init=glorot_uniform, \n",
      "  bias_init=zeros, \n",
      "  weight=f32[1,1](μ=0.20, σ=0.00, ∈[0.20,0.20]), \n",
      "  bias=f32[1](μ=0.00, σ=0.00, ∈[0.00,0.00])\n",
      ")\n"
     ]
    }
   ],
   "source": [
    "# note that `weight` is a leaf node in this layer\n",
    "# the `weight` leaf will be selected later in the next example.\n",
    "print(repr(sk.nn.Linear(1, 1, key=jax.random.PRNGKey(0))))"
   ]
  },
  {
   "cell_type": "code",
   "execution_count": 7,
   "metadata": {},
   "outputs": [
    {
     "name": "stdout",
     "output_type": "stream",
     "text": [
      "82.83809\n"
     ]
    }
   ],
   "source": [
    "import serket as sk\n",
    "import jax\n",
    "import jax.numpy as jnp\n",
    "import matplotlib.pyplot as plt\n",
    "\n",
    "\n",
    "class Net(sk.TreeClass):\n",
    "    def __init__(self, key: jax.Array) -> None:\n",
    "        k1, k2, k3, k4 = jax.random.split(key, 4)\n",
    "        self.linear1 = sk.nn.Linear(in_features=1, out_features=20, key=k1)\n",
    "        self.linear2 = sk.nn.Linear(in_features=20, out_features=20, key=k2)\n",
    "        self.linear3 = sk.nn.Linear(in_features=20, out_features=20, key=k3)\n",
    "        self.linear4 = sk.nn.Linear(in_features=20, out_features=1, key=k4)\n",
    "\n",
    "    def __call__(self, x):\n",
    "        x = jax.nn.tanh(self.linear1(x))\n",
    "        x = jax.nn.tanh(self.linear2(x))\n",
    "        x = jax.nn.tanh(self.linear3(x))\n",
    "        x = self.linear4(x)\n",
    "        return x\n",
    "\n",
    "\n",
    "def linear_12_weight_l1_loss(net: Net):\n",
    "    return (\n",
    "        # select desired branches (linear1, linear2 in this example)\n",
    "        # and the desired leaves (weight)\n",
    "        net.at[\"linear1\", \"linear2\"][\"weight\"]\n",
    "        # alternatively, regex can be used to do the same functiontality\n",
    "        # >>> import re\n",
    "        # >>> net.at[re.compile(\"linear[12]\")][\"weight\"]\n",
    "        # finally apply l1 loss\n",
    "        .reduce(lambda x, y: x + jnp.sum(jnp.abs(y)), initializer=0)\n",
    "    )\n",
    "\n",
    "\n",
    "net = Net(key=jax.random.PRNGKey(0))\n",
    "print(linear_12_weight_l1_loss(net))"
   ]
  },
  {
   "cell_type": "markdown",
   "metadata": {},
   "source": [
    "This recipe can then be included inside the loss function, for example\n",
    "\n",
    "``` python\n",
    "\n",
    "def loss_fnc(net, x, y):\n",
    "    l1_loss = linear_12_weight_l1_loss(net)\n",
    "    loss += l1_loss\n",
    "    ...\n",
    "```"
   ]
  },
  {
   "cell_type": "markdown",
   "metadata": {},
   "source": [
    "## [5] Sharing/Tie Weights\n",
    "\n",
    "In this example a simple `AutoEncoder` with shared `weight` between the encode/decoder is demonstrated."
   ]
  },
  {
   "cell_type": "code",
   "execution_count": 8,
   "metadata": {},
   "outputs": [
    {
     "data": {
      "text/plain": [
       "TiedAutoEncoder(\n",
       "  encoder=Linear(\n",
       "    in_features=(#1), \n",
       "    out_features=#10, \n",
       "    in_axis=(#-1), \n",
       "    out_axis=#-1, \n",
       "    weight_init=#glorot_uniform, \n",
       "    bias_init=#zeros, \n",
       "    weight=f32[10,1](μ=-0.78, σ=1.11, ∈[-2.58,0.00]), \n",
       "    bias=f32[10](μ=-0.39, σ=0.55, ∈[-1.29,0.00])\n",
       "  ), \n",
       "  decoder=Linear(\n",
       "    in_features=(#10), \n",
       "    out_features=#1, \n",
       "    in_axis=(#-1), \n",
       "    out_axis=#-1, \n",
       "    weight_init=#glorot_uniform, \n",
       "    bias_init=#zeros, \n",
       "    weight=None, \n",
       "    bias=f32[1](μ=-2.40, σ=0.00, ∈[-2.40,-2.40])\n",
       "  )\n",
       ")"
      ]
     },
     "execution_count": 8,
     "metadata": {},
     "output_type": "execute_result"
    }
   ],
   "source": [
    "import serket as sk\n",
    "import jax\n",
    "import jax.numpy as jnp\n",
    "import jax.random as jr\n",
    "\n",
    "\n",
    "class TiedAutoEncoder(sk.TreeClass):\n",
    "    def __init__(self, *, key: jax.Array):\n",
    "        k1, k2 = jr.split(key)\n",
    "        self.encoder = sk.nn.Linear(1, 10, key=k1)\n",
    "        # set the unused weight of decoder to `None` to avoid memory usage\n",
    "        self.decoder = sk.nn.Linear(10, 1, key=k2).at[\"weight\"].set(None)\n",
    "\n",
    "    def _call(self, x):\n",
    "        # share/tie weights of encoder and decoder\n",
    "        # however this operation mutates the state\n",
    "        # so this method will only work with .at\n",
    "        # otherwise will throw `AttributeError`\n",
    "        self.decoder.weight = self.encoder.weight.T\n",
    "        out = self.decoder(jax.nn.relu(self.encoder(x)))\n",
    "        return out\n",
    "\n",
    "    def __call__(self, x):\n",
    "        # make the mutating method `_call` work with .at\n",
    "        # since .at returns a tuple of the method value and a new instance\n",
    "        # of the class that has the mutated state (i.e. does not mutate in place)\n",
    "        # then we can define __call__ to return only the result of the method\n",
    "        # and ignore the new instance of the class\n",
    "        out, _ = self.at[\"_call\"](x)\n",
    "        return out\n",
    "\n",
    "\n",
    "tree = sk.tree_mask(TiedAutoEncoder(key=jr.PRNGKey(0)))\n",
    "\n",
    "\n",
    "@jax.jit\n",
    "@jax.grad\n",
    "def loss_func(net, x, y):\n",
    "    net = sk.tree_unmask(net)\n",
    "    return jnp.mean((jax.vmap(net)(x) - y) ** 2)\n",
    "\n",
    "\n",
    "tree = sk.tree_mask(tree)\n",
    "x = jnp.ones([10, 1]) + 0.0\n",
    "y = jnp.ones([10, 1]) * 2.0\n",
    "grads: TiedAutoEncoder = loss_func(tree, x, y)\n",
    "\n",
    "grads"
   ]
  }
 ],
 "metadata": {
  "kernelspec": {
   "display_name": "dev-jax",
   "language": "python",
   "name": "python3"
  },
  "language_info": {
   "codemirror_mode": {
    "name": "ipython",
    "version": 3
   },
   "file_extension": ".py",
   "mimetype": "text/x-python",
   "name": "python",
   "nbconvert_exporter": "python",
   "pygments_lexer": "ipython3",
   "version": "3.11.0"
  },
  "orig_nbformat": 4
 },
 "nbformat": 4,
 "nbformat_minor": 2
}
