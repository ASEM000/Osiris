{
  "cells": [
    {
      "cell_type": "markdown",
      "metadata": {
        "id": "PJyyxjLA2A62"
      },
      "source": [
        "# Train Convolutional `LSTM`\n",
        "\n",
        "\n",
        "In this notebook, a simple next frame video prediction using convolutional `LSTM` is demonstrated."
      ]
    },
    {
      "cell_type": "markdown",
      "metadata": {
        "id": "tx7krW6z2A66"
      },
      "source": [
        "## Imports"
      ]
    },
    {
      "cell_type": "code",
      "execution_count": 1,
      "metadata": {
        "colab": {
          "base_uri": "https://localhost:8080/"
        },
        "id": "YABV1l4q2HR9",
        "outputId": "2c1eb5c7-2a0e-4542-ba83-c1baf3cfdc60"
      },
      "outputs": [
        {
          "name": "stdout",
          "output_type": "stream",
          "text": [
            "  Installing build dependencies ... \u001b[?25l\u001b[?25hdone\n",
            "  Getting requirements to build wheel ... \u001b[?25l\u001b[?25hdone\n",
            "  Preparing metadata (pyproject.toml) ... \u001b[?25l\u001b[?25hdone\n",
            "\u001b[2K     \u001b[90m━━━━━━━━━━━━━━━━━━━━━━━━━━━━━━━━━━━━━━━━\u001b[0m \u001b[32m57.8/57.8 kB\u001b[0m \u001b[31m1.9 MB/s\u001b[0m eta \u001b[36m0:00:00\u001b[0m\n",
            "\u001b[?25h  Building wheel for serket (pyproject.toml) ... \u001b[?25l\u001b[?25hdone\n",
            "\u001b[2K     \u001b[90m━━━━━━━━━━━━━━━━━━━━━━━━━━━━━━━━━━━━━━━━\u001b[0m \u001b[32m77.9/77.9 kB\u001b[0m \u001b[31m2.1 MB/s\u001b[0m eta \u001b[36m0:00:00\u001b[0m\n",
            "\u001b[?25h  Preparing metadata (setup.py) ... \u001b[?25l\u001b[?25hdone\n",
            "  Building wheel for ml_collections (setup.py) ... \u001b[?25l\u001b[?25hdone\n"
          ]
        }
      ],
      "source": [
        "!pip install git+https://github.com/ASEM000/serket --quiet\n",
        "!pip install optax --quiet\n",
        "!pip install ml_collections --quiet"
      ]
    },
    {
      "cell_type": "code",
      "execution_count": 2,
      "metadata": {
        "id": "OuWKV_Zf2A66"
      },
      "outputs": [],
      "source": [
        "import serket as sk\n",
        "import jax\n",
        "import jax.numpy as jnp\n",
        "import jax.random as jr\n",
        "import matplotlib.pyplot as plt\n",
        "import ipywidgets as widgets  # interactive widgets for visualization\n",
        "import optax  # gradient based optimization\n",
        "from typing import Any\n",
        "from ml_collections import ConfigDict  # creating simple configuration files\n",
        "from typing_extensions import Annotated  # adding type annotations to arrays\n",
        "from tqdm import tqdm  # progress bar\n",
        "config = ConfigDict()"
      ]
    },
    {
      "cell_type": "markdown",
      "metadata": {
        "id": "C7qaxD4l2A66"
      },
      "source": [
        "## Create data"
      ]
    },
    {
      "cell_type": "code",
      "execution_count": 3,
      "metadata": {
        "id": "1YdN3s2J2A66"
      },
      "outputs": [],
      "source": [
        "def create_circle_frames_numpy(\n",
        "    frame_size: int,\n",
        "    num_frames: int,\n",
        "    radius_increment: int,\n",
        "    x_shift = 0,\n",
        "    y_shift =0 ,\n",
        ") -> jax.Array:\n",
        "    \"\"\"Return frames of a circle growing in size.\n",
        "\n",
        "    Args:\n",
        "        frame_size: Size of the frame.\n",
        "        num_frames: Number of frames to generate.\n",
        "        radius_increment: Increment of radius between frames.\n",
        "        shift: Shift of the circle's center.\n",
        "    \"\"\"\n",
        "    center = frame_size // 2\n",
        "\n",
        "    def draw_solid_circle_numpy(radius):\n",
        "        frame = jnp.zeros((frame_size, frame_size))\n",
        "        x, y = jnp.meshgrid(jnp.arange(frame_size), jnp.arange(frame_size))\n",
        "        distances = (x - (center+x_shift)) ** 2 + (y - (center+y_shift)) ** 2\n",
        "        frame = jnp.where(distances <= radius**2, 1, 0)\n",
        "        return frame\n",
        "\n",
        "    radii = jnp.arange(1, num_frames + 1) * radius_increment\n",
        "    result = jax.vmap(draw_solid_circle_numpy)(radii)\n",
        "    # add channel dimension\n",
        "    return jnp.expand_dims(result, axis=1).astype(jnp.float32)"
      ]
    },
    {
      "cell_type": "code",
      "execution_count": 4,
      "metadata": {
        "id": "aPxo84Tp2A67"
      },
      "outputs": [],
      "source": [
        "config.num_frames = 5\n",
        "config.samples_count = 20\n",
        "config.frame_size = 32\n",
        "\n",
        "x_shifts = jr.randint(jr.PRNGKey(0), (config.samples_count,), -(config.frame_size //2), config.frame_size //2)\n",
        "y_shifts = jr.randint(jr.PRNGKey(1), (config.samples_count,),-(config.frame_size //2), config.frame_size //2)\n",
        "data = jax.vmap(lambda xs,ys : create_circle_frames_numpy(config.frame_size, config.num_frames, 1, xs, ys))(x_shifts, y_shifts)\n",
        "train_data, test_data = data[:int(0.8*len(data))], data[int(0.8*len(data)):]\n",
        "x_train, y_train = train_data[:, :-1], train_data[:, 1:]\n",
        "x_test, y_test = test_data[:, :-1], test_data[:, 1:]"
      ]
    },
    {
      "cell_type": "markdown",
      "metadata": {
        "id": "ohVmD9Zd2A67"
      },
      "source": [
        "## Visualize data\n",
        "\n",
        "Plot each sample for each row and the frames on columns"
      ]
    },
    {
      "cell_type": "code",
      "execution_count": 5,
      "metadata": {
        "colab": {
          "base_uri": "https://localhost:8080/",
          "height": 1000
        },
        "id": "c_mHfJYd2A68",
        "outputId": "bb25c7df-fd0f-410a-f679-a468dba2e5ea"
      },
      "outputs": [
        {
          "data": {
            "image/png": "[encoded data removed]",
            "text/plain": [
              "<Figure size 1000x2000 with 16 Axes>"
            ]
          },
          "metadata": {},
          "output_type": "display_data"
        }
      ],
      "source": [
        "image = x_train[:,:,0]\n",
        "image = image.transpose(0,2,1,3)\n",
        "samples,frame_size,frame_count, _ = image.shape\n",
        "image = image.reshape(samples,frame_size,frame_count*frame_size)\n",
        "fig, axes = plt.subplots(len(image),1, figsize=(10,20))\n",
        "for i,ax in enumerate(axes.ravel()):\n",
        "    ax.axis('off')\n",
        "    ax.imshow(image[i], cmap='gray')"
      ]
    },
    {
      "cell_type": "markdown",
      "metadata": {
        "id": "IMYoJ88A2A68"
      },
      "source": [
        "## Model"
      ]
    },
    {
      "cell_type": "code",
      "execution_count": 6,
      "metadata": {
        "id": "cW3yCW532A69"
      },
      "outputs": [],
      "source": [
        "class Net(sk.TreeClass):\n",
        "    def __init__(self, hidden_features: int, *, key: jax.Array):\n",
        "        k1, k2, k3, k4 = jr.split(key, 4)\n",
        "        self.convlstm1 = sk.nn.ScanRNN(\n",
        "            cell=sk.nn.ConvLSTM2DCell(\n",
        "                in_features=1,\n",
        "                hidden_features=hidden_features,\n",
        "                kernel_size=5,\n",
        "                padding=\"same\",\n",
        "                key=k1,\n",
        "            ),\n",
        "            return_sequences=True,\n",
        "        )\n",
        "        self.convlstm2 = sk.nn.ScanRNN(\n",
        "            cell=sk.nn.ConvLSTM2DCell(\n",
        "                in_features=hidden_features,\n",
        "                hidden_features=hidden_features,\n",
        "                kernel_size=3,\n",
        "                padding=\"same\",\n",
        "                key=k2,\n",
        "            ),\n",
        "            return_sequences=True,\n",
        "        )\n",
        "        self.convlstm3 = sk.nn.ScanRNN(\n",
        "            cell=sk.nn.ConvLSTM2DCell(\n",
        "                in_features=hidden_features,\n",
        "                hidden_features=hidden_features,\n",
        "                kernel_size=1,\n",
        "                padding=\"same\",\n",
        "                key=k3,\n",
        "            ),\n",
        "            return_sequences=True,\n",
        "        )\n",
        "        self.conv = sk.nn.Conv2D(\n",
        "            in_features=hidden_features,\n",
        "            out_features=1,\n",
        "            kernel_size=3,\n",
        "            padding=\"same\",\n",
        "            key=k4,\n",
        "        )\n",
        "\n",
        "    def __call__(\n",
        "        self, input: Annotated[jax.Array, \"f32[F,1,H,W]\"]\n",
        "    ) -> Annotated[jax.Array, \"f32[F,1,H,W]\"]:\n",
        "        input = jax.nn.relu(self.convlstm1(input))\n",
        "        input = jax.nn.relu(self.convlstm2(input))\n",
        "        input = jax.nn.relu(self.convlstm3(input))\n",
        "        input = jax.vmap(self.conv)(input)  # vectorize over frames\n",
        "        return jax.nn.sigmoid(input)"
      ]
    },
    {
      "cell_type": "markdown",
      "metadata": {
        "id": "3ZqimUBn2A69"
      },
      "source": [
        "## Training"
      ]
    },
    {
      "cell_type": "code",
      "execution_count": 7,
      "metadata": {
        "colab": {
          "base_uri": "https://localhost:8080/"
        },
        "id": "9igKcrLM2A69",
        "outputId": "cfb76f8b-a239-49db-83fe-10994c9fe9b6"
      },
      "outputs": [
        {
          "name": "stdout",
          "output_type": "stream",
          "text": [
            "┌──────────┬───────────────────────┬───────┬────────┐\n",
            "│Name      │Type                   │Count  │Size    │\n",
            "├──────────┼───────────────────────┼───────┼────────┤\n",
            "│.convlstm1│ScanRNN[ConvLSTM2DCell]│416,256│1.59MB  │\n",
            "├──────────┼───────────────────────┼───────┼────────┤\n",
            "│.convlstm2│ScanRNN[ConvLSTM2DCell]│295,168│1.13MB  │\n",
            "├──────────┼───────────────────────┼───────┼────────┤\n",
            "│.convlstm3│ScanRNN[ConvLSTM2DCell]│33,024 │129.00KB│\n",
            "├──────────┼───────────────────────┼───────┼────────┤\n",
            "│.conv     │Conv2D                 │577    │2.25KB  │\n",
            "├──────────┼───────────────────────┼───────┼────────┤\n",
            "│Σ         │Net                    │745,025│2.84MB  │\n",
            "└──────────┴───────────────────────┴───────┴────────┘\n"
          ]
        },
        {
          "name": "stderr",
          "output_type": "stream",
          "text": [
            "Loss: 6.7986e-01: 100%|██████████| 1000/1000 [01:20<00:00, 12.39it/s]\n"
          ]
        }
      ],
      "source": [
        "config.hidden_features = 64\n",
        "config.epochs = 1000\n",
        "config.key = jr.PRNGKey(0)\n",
        "config.optim = ConfigDict()\n",
        "config.optim.kind = \"adam\"\n",
        "config.optim.init_value = 1e-2\n",
        "config.optim.boundaries = [\n",
        "    int(config.epochs * 0.25),\n",
        "    int(config.epochs * 0.5),\n",
        "    int(config.epochs * 0.75),\n",
        "]\n",
        "config.optim.scales = [0.5, 0.5, 0.5]\n",
        "\n",
        "\n",
        "def train(config: ConfigDict)->Net:\n",
        "    lr = optax.piecewise_constant_schedule(\n",
        "        init_value=config.optim.init_value,\n",
        "        boundaries_and_scales=dict(zip(config.optim.boundaries, config.optim.scales)),\n",
        "    )\n",
        "    optim = getattr(optax, config.optim.kind)(learning_rate=lr)\n",
        "    net = sk.tree_mask(Net(hidden_features=config.hidden_features, key=config.key))\n",
        "    optim_state = optim.init(net)\n",
        "\n",
        "    print(sk.tree_summary(net, depth=1))\n",
        "\n",
        "    def loss_func(\n",
        "        net: Net,\n",
        "        xb: Annotated[jax.Array, \"f32[N,F,1,H,W]\"],\n",
        "        yb: Annotated[jax.Array, \"f32[N,F,1,H,W]\"],\n",
        "    ):\n",
        "        net = sk.tree_unmask(net)\n",
        "        logits = jax.vmap(net)(xb)  # vectorize over the batch dimension\n",
        "        return jnp.mean(optax.sigmoid_binary_cross_entropy(logits, yb))\n",
        "\n",
        "    @jax.jit\n",
        "    def train_step(\n",
        "        net: Net,\n",
        "        optim_state: Any,\n",
        "        xb: Annotated[jax.Array, \"f32[N,F,1,H,W]\"],\n",
        "        yb: Annotated[jax.Array, \"f32[N,F,1,H,W]\"],\n",
        "    ):\n",
        "        loss, grads = jax.value_and_grad(loss_func)(net, xb, yb)\n",
        "        updates, optim_state = optim.update(grads, optim_state)\n",
        "        net = optax.apply_updates(net, updates)\n",
        "        return net, optim_state, loss\n",
        "\n",
        "    for _ in (epoch_bar := tqdm(range(config.epochs))):\n",
        "        net, optim_state, loss = train_step(net, optim_state, x_train, y_train)\n",
        "        epoch_bar.set_description(f\"Loss: {loss:.4e}\")\n",
        "\n",
        "    net = sk.tree_unmask(net)\n",
        "    return net\n",
        "\n",
        "\n",
        "net = train(config)"
      ]
    },
    {
      "cell_type": "markdown",
      "metadata": {
        "id": "An3vTNO92A69"
      },
      "source": [
        "## Visualize test predictions"
      ]
    },
    {
      "cell_type": "code",
      "execution_count": 8,
      "metadata": {
        "colab": {
          "base_uri": "https://localhost:8080/",
          "height": 440
        },
        "id": "ALAbakDJ2A69",
        "outputId": "07b80e11-8e15-4401-e211-006f4dc84bf9"
      },
      "outputs": [
        {
          "name": "stdout",
          "output_type": "stream",
          "text": [
            "(4, 32, 4, 32)\n"
          ]
        },
        {
          "data": {
            "image/png": "[encoded data removed]",
            "text/plain": [
              "<Figure size 1000x500 with 4 Axes>"
            ]
          },
          "metadata": {},
          "output_type": "display_data"
        }
      ],
      "source": [
        "y_test_pred = jax.vmap(net)(x_test)\n",
        "image_pred = y_test_pred[:,:,0]\n",
        "image_pred = image_pred.transpose(0,2,1,3)\n",
        "print(image_pred.shape)\n",
        "samples,frame_size,frame_count, _ = image_pred.shape\n",
        "image_pred = image_pred.reshape(samples,frame_size,frame_count*frame_size)\n",
        "\n",
        "fig, axes = plt.subplots(len(image_pred),1, figsize=(10,5))\n",
        "\n",
        "for i,ax in enumerate(axes.ravel()):\n",
        "    ax.axis('off')\n",
        "    ax.imshow(image_pred[i], cmap='gray')"
      ]
    },
    {
      "cell_type": "markdown",
      "metadata": {
        "id": "2OzY9vnoJ41A"
      },
      "source": [
        "Inspired by https://keras.io/examples/vision/conv_lstm/"
      ]
    }
  ],
  "metadata": {
    "accelerator": "GPU",
    "colab": {
      "gpuType": "T4",
      "provenance": []
    },
    "kernelspec": {
      "display_name": "Python 3",
      "name": "python3"
    },
    "language_info": {
      "codemirror_mode": {
        "name": "ipython",
        "version": 3
      },
      "file_extension": ".py",
      "mimetype": "text/x-python",
      "name": "python",
      "nbconvert_exporter": "python",
      "pygments_lexer": "ipython3",
      "version": "3.11.0"
    }
  },
  "nbformat": 4,
  "nbformat_minor": 0
}
