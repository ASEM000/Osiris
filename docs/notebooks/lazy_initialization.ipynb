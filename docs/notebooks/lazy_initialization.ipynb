{
 "cells": [
  {
   "cell_type": "markdown",
   "metadata": {},
   "source": [
    "# 🥱 Functional lazy initialization\n",
    "\n",
    "Lazy initialization is particularly useful in scenarios where the dimensions of certain input features are not known in advance. For instance, consider a situation where the number of neurons required for a flattened image input is uncertain (**Example 1**), or the shape of the output from a flattened convolutional layer is not straightforward to calculate (**Example 2**).\n",
    "\n",
    "In such cases, lazy initialization allows the model to defer the allocation of memory for these uncertain dimensions until they are explicitly computed during the training process. This flexibility ensures that the model can handle varying input sizes and adapt its architecture accordingly, making it more versatile and efficient when dealing with different data samples or changing conditions."
   ]
  },
  {
   "cell_type": "code",
   "execution_count": 1,
   "metadata": {},
   "outputs": [
    {
     "data": {
      "text/plain": [
       "(5, 10)"
      ]
     },
     "execution_count": 1,
     "metadata": {},
     "output_type": "execute_result"
    }
   ],
   "source": [
    "import jax\n",
    "import serket as sk\n",
    "\n",
    "# 5 images from MNIST\n",
    "x = jax.numpy.ones([5, 1, 28, 28])\n",
    "\n",
    "layer = sk.nn.Sequential(\n",
    "    jax.numpy.ravel,\n",
    "    # lazy in_features inference pass `None`\n",
    "    sk.nn.Linear(None, 10),\n",
    "    jax.nn.relu,\n",
    "    sk.nn.Linear(10, 10),\n",
    "    jax.nn.softmax,\n",
    ")\n",
    "# materialize the layer with single image\n",
    "_, layer = layer.at[\"__call__\"](x[0])\n",
    "# apply on batch\n",
    "y = jax.vmap(layer)(x)\n",
    "y.shape"
   ]
  },
  {
   "cell_type": "code",
   "execution_count": 2,
   "metadata": {},
   "outputs": [
    {
     "data": {
      "text/plain": [
       "(5, 10)"
      ]
     },
     "execution_count": 2,
     "metadata": {},
     "output_type": "execute_result"
    }
   ],
   "source": [
    "import jax\n",
    "import serket as sk\n",
    "\n",
    "# 5 images from MNIST\n",
    "x = jax.numpy.ones([5, 1, 28, 28])\n",
    "\n",
    "layer = sk.nn.Sequential(\n",
    "    sk.nn.Conv2D(1, 10, 3),\n",
    "    jax.nn.relu,\n",
    "    sk.nn.MaxPool2D(2),\n",
    "    jax.numpy.ravel,\n",
    "    # linear input size is inferred from\n",
    "    # previous layer output\n",
    "    sk.nn.Linear(None, 10),\n",
    "    jax.nn.softmax,\n",
    ")\n",
    "\n",
    "# materialize the layer with single image\n",
    "_, layer = layer.at[\"__call__\"](x[0])\n",
    "\n",
    "# apply on batch\n",
    "y = jax.vmap(layer)(x)\n",
    "\n",
    "y.shape"
   ]
  }
 ],
 "metadata": {
  "kernelspec": {
   "display_name": "dev-jax",
   "language": "python",
   "name": "python3"
  },
  "language_info": {
   "codemirror_mode": {
    "name": "ipython",
    "version": 3
   },
   "file_extension": ".py",
   "mimetype": "text/x-python",
   "name": "python",
   "nbconvert_exporter": "python",
   "pygments_lexer": "ipython3",
   "version": "3.10.0"
  },
  "orig_nbformat": 4
 },
 "nbformat": 4,
 "nbformat_minor": 2
}
