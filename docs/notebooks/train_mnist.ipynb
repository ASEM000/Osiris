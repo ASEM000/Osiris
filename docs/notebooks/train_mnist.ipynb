{
  "cells": [
    {
      "cell_type": "markdown",
      "metadata": {
        "id": "k0i-yEycZkF-"
      },
      "source": [
        "# Train `MNIST`"
      ]
    },
    {
      "cell_type": "markdown",
      "metadata": {
        "id": "mdM9pVTUZkGC"
      },
      "source": [
        "#### Imports"
      ]
    },
    {
      "cell_type": "code",
      "execution_count": 1,
      "metadata": {
        "colab": {
          "base_uri": "https://localhost:8080/"
        },
        "id": "HL0vQXylZmcw",
        "outputId": "b380b72a-649c-4897-a482-f260f63a6809"
      },
      "outputs": [],
      "source": [
        "!pip install keras-core --quiet\n",
        "!pip install git+https://github.com/ASEM000/serket --quiet\n",
        "!pip install optax --quiet"
      ]
    },
    {
      "cell_type": "code",
      "execution_count": 2,
      "metadata": {
        "colab": {
          "base_uri": "https://localhost:8080/"
        },
        "id": "xXc4hBALZkGD",
        "outputId": "e95d6394-93b5-4d56-8136-505bce30d9b6"
      },
      "outputs": [
        {
          "name": "stdout",
          "output_type": "stream",
          "text": [
            "Using JAX backend.\n"
          ]
        }
      ],
      "source": [
        "import os\n",
        "\n",
        "os.environ[\"KERAS_BACKEND\"] = \"jax\"\n",
        "from keras_core.datasets import mnist  # for mnist only\n",
        "import jax\n",
        "import jax.numpy as jnp\n",
        "import functools as ft\n",
        "import optax  # for gradient optimization\n",
        "import serket as sk\n",
        "import time\n",
        "import matplotlib.pyplot as plt  # for plotting the predictions\n",
        "\n",
        "EPOCHS = 1\n",
        "LR = 1e-3\n",
        "BATCH_SIZE = 128"
      ]
    },
    {
      "cell_type": "markdown",
      "metadata": {
        "id": "5W8_JuFbZkGF"
      },
      "source": [
        "#### Data preparation"
      ]
    },
    {
      "cell_type": "code",
      "execution_count": 3,
      "metadata": {
        "id": "foBqrS8VZkGF"
      },
      "outputs": [],
      "source": [
        "(x_train, y_train), _ = mnist.load_data()\n",
        "\n",
        "x_train = x_train.reshape(-1, 1, 28, 28).astype(\"float32\") / 255.0\n",
        "x_train = jnp.array_split(x_train, x_train.shape[0] // BATCH_SIZE)\n",
        "y_train = jnp.array_split(y_train, y_train.shape[0] // BATCH_SIZE)"
      ]
    },
    {
      "cell_type": "markdown",
      "metadata": {
        "id": "r2zMI_8OZkGG"
      },
      "source": [
        "#### Model creation\n",
        "\n",
        "_**Style 1**_"
      ]
    },
    {
      "cell_type": "code",
      "execution_count": 4,
      "metadata": {
        "id": "FZxrY-foZkGG"
      },
      "outputs": [],
      "source": [
        "k1, k2, k3 = jax.random.split(jax.random.PRNGKey(0), 3)\n",
        "\n",
        "nn = sk.Sequential(\n",
        "    sk.nn.Conv2D(1, 32, 3, key=k1, padding=\"valid\"),\n",
        "    jax.nn.relu,\n",
        "    sk.nn.MaxPool2D(2, 2),\n",
        "    sk.nn.Conv2D(32, 64, 3, key=k2, padding=\"valid\"),\n",
        "    jax.nn.relu,\n",
        "    sk.nn.MaxPool2D(2, 2),\n",
        "    jnp.ravel,\n",
        "    sk.nn.Linear(1600, 10, key=k3),\n",
        ")"
      ]
    },
    {
      "cell_type": "markdown",
      "metadata": {
        "id": "lx9tylogZkGH"
      },
      "source": [
        "_**Style 2**_"
      ]
    },
    {
      "cell_type": "code",
      "execution_count": 5,
      "metadata": {
        "id": "aEB4UzU7ZkGH"
      },
      "outputs": [],
      "source": [
        "k1, k2, k3 = jax.random.split(jax.random.PRNGKey(0), 3)\n",
        "\n",
        "\n",
        "@sk.autoinit\n",
        "class ConvNet(sk.TreeClass):\n",
        "    def __init__(self):\n",
        "        self.conv1 = sk.nn.Conv2D(1, 32, 3, key=k1, padding=\"valid\")\n",
        "        self.pool1 = sk.nn.MaxPool2D(2, 2)\n",
        "        self.conv2 = sk.nn.Conv2D(32, 64, 3, key=k2, padding=\"valid\")\n",
        "        self.pool2 = sk.nn.MaxPool2D(2, 2)\n",
        "        self.linear = sk.nn.Linear(1600, 10, key=k3)\n",
        "\n",
        "    def __call__(self, x: jax.Array) -> jax.Array:\n",
        "        x = self.pool1(jax.nn.relu(self.conv1(x)))\n",
        "        x = self.pool2(jax.nn.relu(self.conv2(x)))\n",
        "        x = self.linear(jnp.ravel(x))\n",
        "        return x\n",
        "\n",
        "\n",
        "nn = ConvNet()"
      ]
    },
    {
      "cell_type": "markdown",
      "metadata": {
        "id": "2s0KCnVEZkGI"
      },
      "source": [
        "#### Visualize tree"
      ]
    },
    {
      "cell_type": "code",
      "execution_count": 6,
      "metadata": {
        "colab": {
          "base_uri": "https://localhost:8080/"
        },
        "id": "8kZMEgaYZkGI",
        "outputId": "421dbebf-2a53-45f5-95d4-b6926c1ed5a8"
      },
      "outputs": [
        {
          "name": "stdout",
          "output_type": "stream",
          "text": [
            "depth=0\n",
            "┌────┬───────┬──────┬────────┐\n",
            "│Name│Type   │Count │Size    │\n",
            "├────┼───────┼──────┼────────┤\n",
            "│Σ   │ConvNet│34,866│136.04KB│\n",
            "└────┴───────┴──────┴────────┘\n",
            "depth=1\n",
            "┌───────┬─────────┬──────┬────────┐\n",
            "│Name   │Type     │Count │Size    │\n",
            "├───────┼─────────┼──────┼────────┤\n",
            "│.conv1 │Conv2D   │332   │1.25KB  │\n",
            "├───────┼─────────┼──────┼────────┤\n",
            "│.pool1 │MaxPool2D│6     │        │\n",
            "├───────┼─────────┼──────┼────────┤\n",
            "│.conv2 │Conv2D   │18,508│72.25KB │\n",
            "├───────┼─────────┼──────┼────────┤\n",
            "│.pool2 │MaxPool2D│6     │        │\n",
            "├───────┼─────────┼──────┼────────┤\n",
            "│.linear│Linear   │16,014│62.54KB │\n",
            "├───────┼─────────┼──────┼────────┤\n",
            "│Σ      │ConvNet  │34,866│136.04KB│\n",
            "└───────┴─────────┴──────┴────────┘\n"
          ]
        }
      ],
      "source": [
        "print(\"depth=0\")\n",
        "print(sk.tree_summary(nn, depth=0))\n",
        "print(\"depth=1\")\n",
        "print(sk.tree_summary(nn, depth=1))"
      ]
    },
    {
      "cell_type": "markdown",
      "metadata": {
        "id": "9Apr03C_ZkGJ"
      },
      "source": [
        "#### Training functions"
      ]
    },
    {
      "cell_type": "code",
      "execution_count": 7,
      "metadata": {
        "id": "9X_xMaWEZkGJ"
      },
      "outputs": [],
      "source": [
        "# 1) mask the non-jaxtype parameters\n",
        "nn = sk.tree_mask(nn)\n",
        "\n",
        "# 2) initialize the optimizer state\n",
        "optim = optax.adam(LR)\n",
        "optim_state = optim.init(nn)\n",
        "\n",
        "\n",
        "@jax.vmap\n",
        "def softmax_cross_entropy(logits, onehot):\n",
        "    assert onehot.shape == logits.shape == (10,)\n",
        "    return -jnp.sum(jax.nn.log_softmax(logits) * onehot)\n",
        "\n",
        "\n",
        "@ft.partial(jax.grad, has_aux=True)\n",
        "def loss_func(nn, x, y):\n",
        "    # 3) unmask the non-jaxtype parameters to be used in the computation.\n",
        "    # The tree must be masked -using sk.tree_mask` before being passed to the\n",
        "    # loss function. Because `jax.grad` will not be able to differentiate through\n",
        "    # the tree if the tree contains non-jaxtype parameters (e.g. anything that is not\n",
        "    # a float/float array/complex/complex array like activation function or strings).\n",
        "    # So we mask before passing to the loss function, and unmask before calling the\n",
        "    # neural network, thus rendering the non-jaxtype parameters *invisible* to `jax.grad`\n",
        "    nn = sk.tree_unmask(nn)\n",
        "\n",
        "    # 4) vectorize the computation over the batch\n",
        "    logits = jax.vmap(nn)(x)\n",
        "    onehot = jax.nn.one_hot(y, 10)\n",
        "\n",
        "    # 5) use the appropriate loss function\n",
        "    loss = jnp.mean(softmax_cross_entropy(logits, onehot))\n",
        "    return loss, (loss, logits)\n",
        "\n",
        "\n",
        "@jax.vmap\n",
        "def accuracy_func(logits, y):\n",
        "    assert logits.shape == (10,)\n",
        "    return jnp.argmax(logits) == y\n",
        "\n",
        "\n",
        "@jax.jit\n",
        "def train_step(nn, optim_state, x, y):\n",
        "    # the loss function will have an output of (loss, logits)\n",
        "    # as an auxillary output, and will have a gradient `grads` of same\n",
        "    # structure as the input\n",
        "    grads, (loss, logits) = loss_func(nn, x, y)\n",
        "\n",
        "    # 6) update the parameters using the optimizer\n",
        "    updates, optim_state = optim.update(grads, optim_state)\n",
        "    nn = optax.apply_updates(nn, updates)\n",
        "    return nn, optim_state, (loss, logits)"
      ]
    },
    {
      "cell_type": "markdown",
      "metadata": {
        "id": "VBHo1WsKZkGJ"
      },
      "source": [
        "#### Train and plot results"
      ]
    },
    {
      "cell_type": "code",
      "execution_count": 8,
      "metadata": {
        "colab": {
          "base_uri": "https://localhost:8080/",
          "height": 360
        },
        "id": "9Qr1nuU8ZkGJ",
        "outputId": "2449b463-3003-4a15-b101-68909dd5598f"
      },
      "outputs": [
        {
          "name": "stdout",
          "output_type": "stream",
          "text": [
            "Epoch: 001/001\tBatch: 468/468\tBatch loss: 1.916139e-01\tBatch accuracy: 0.984375\tTime: 17.211\r"
          ]
        },
        {
          "data": {
            "image/png": "[encoded data removed]",
            "text/plain": [
              "<Figure size 1000x400 with 10 Axes>"
            ]
          },
          "metadata": {},
          "output_type": "display_data"
        }
      ],
      "source": [
        "for i in range(1, EPOCHS + 1):\n",
        "    t0 = time.time()\n",
        "    for j, (xb, yb) in enumerate(zip(x_train, y_train)):\n",
        "        nn, optim_state, (loss, logits) = train_step(nn, optim_state, xb, yb)\n",
        "        accuracy = jnp.mean(accuracy_func(logits, yb))\n",
        "        print(\n",
        "            f\"Epoch: {i:003d}/{EPOCHS:003d}\\t\"\n",
        "            f\"Batch: {j+1:003d}/{len(x_train):003d}\\t\"\n",
        "            f\"Batch loss: {loss:3e}\\t\"\n",
        "            f\"Batch accuracy: {accuracy:3f}\\t\"\n",
        "            f\"Time: {time.time() - t0:.3f}\",\n",
        "            end=\"\\r\",\n",
        "        )\n",
        "\n",
        "# 6) un-mask the trained network\n",
        "nn = sk.tree_unmask(nn)\n",
        "\n",
        "# create 2x5 grid of images\n",
        "fig, axes = plt.subplots(2, 5, figsize=(10, 4))\n",
        "idxs = jax.random.randint(k1, shape=(10,), minval=0, maxval=x_train[0].shape[0])\n",
        "\n",
        "for i, idx in zip(axes.flatten(), idxs):\n",
        "    # get the prediction\n",
        "    pred = nn(x_train[0][idx])\n",
        "    # plot the image\n",
        "    i.imshow(x_train[0][idx].reshape(28, 28), cmap=\"gray\")\n",
        "    # set the title to be the prediction\n",
        "    i.set_title(jnp.argmax(pred))\n",
        "    i.set_xticks([])\n",
        "    i.set_yticks([])"
      ]
    }
  ],
  "metadata": {
    "colab": {
      "include_colab_link": true,
      "provenance": []
    },
    "kernelspec": {
      "display_name": "dev-jax",
      "language": "python",
      "name": "python3"
    },
    "language_info": {
      "codemirror_mode": {
        "name": "ipython",
        "version": 3
      },
      "file_extension": ".py",
      "mimetype": "text/x-python",
      "name": "python",
      "nbconvert_exporter": "python",
      "pygments_lexer": "ipython3",
      "version": "3.11.0"
    },
    "orig_nbformat": 4
  },
  "nbformat": 4,
  "nbformat_minor": 0
}
