{
 "cells": [
  {
   "cell_type": "markdown",
   "metadata": {},
   "source": [
    "# ✂️ Model surgery\n",
    "\n",
    "This tutorial provides a basic review of model surgery techniques. Because models are basically [pytrees](https://jax.readthedocs.io/en/latest/pytrees.html) (nested datastructures like `tuple` or `dict`), this approach applies to manipulating any other pytrees, not just neural network layers."
   ]
  },
  {
   "cell_type": "code",
   "execution_count": 1,
   "metadata": {},
   "outputs": [],
   "source": [
    "# !pip install git+https://github.com/ASEM000/serket --quiet"
   ]
  },
  {
   "cell_type": "code",
   "execution_count": 2,
   "metadata": {},
   "outputs": [],
   "source": [
    "import serket as sk\n",
    "import jax\n",
    "import jax.numpy as jnp\n",
    "import re"
   ]
  },
  {
   "cell_type": "markdown",
   "metadata": {},
   "source": [
    "## `AtIndexer` basics"
   ]
  },
  {
   "cell_type": "markdown",
   "metadata": {},
   "source": [
    "`serket.AtIndexer` wraps any pytree (nested container) to manipulate its content in out-of-place fashion. This means that any change will be applied to a _new_ instance of the pytree.\n",
    "\n",
    " The following example demonstrate this point:"
   ]
  },
  {
   "cell_type": "code",
   "execution_count": 3,
   "metadata": {},
   "outputs": [
    {
     "name": "stdout",
     "output_type": "stream",
     "text": [
      "pytree1=[1, [2, 3], 4], pytree2=[1, [2, 3], 4]\n",
      "pytree1 is pytree2 = False\n"
     ]
    }
   ],
   "source": [
    "pytree1 = [1, [2, 3], 4]\n",
    "indexer: sk.AtIndexer = sk.AtIndexer(pytree1)\n",
    "pytree2 = indexer[...].get()  # get the whole pytree using ...\n",
    "print(f\"{pytree1=}, {pytree2=}\")\n",
    "# even though pytree1 and pytree2 are the same, they are not the same object\n",
    "# because pytree2 is a copy of pytree1\n",
    "print(f\"pytree1 is pytree2 = {pytree1 is pytree2}\")"
   ]
  },
  {
   "cell_type": "markdown",
   "metadata": {},
   "source": [
    "Note that each `[ ]` is selecting at a certain depth, meaning that `[a][b]` is selecting\n",
    "`a` at depth=1 and `b` at depth=2."
   ]
  },
  {
   "cell_type": "markdown",
   "metadata": {},
   "source": [
    "### Integer indexing\n",
    "\n",
    "`serket.AtIndexer` can edit pytrees by integer paths."
   ]
  },
  {
   "cell_type": "code",
   "execution_count": 4,
   "metadata": {},
   "outputs": [
    {
     "name": "stdout",
     "output_type": "stream",
     "text": [
      "pytree1=[1, [2, 3], 4], pytree2=[1, [100, 3], 4]\n"
     ]
    }
   ],
   "source": [
    "pytree1 = [1, [2, 3], 4]\n",
    "indexer: sk.AtIndexer = sk.AtIndexer(pytree1)\n",
    "pytree2 = indexer[1][0].set(100)  # equivalent to pytree1[1][0] = 100\n",
    "\n",
    "print(f\"{pytree1=}, {pytree2=}\")"
   ]
  },
  {
   "cell_type": "markdown",
   "metadata": {},
   "source": [
    "### Named path indexing\n",
    "`serket.AtIndexer` can edit pytrees by named paths."
   ]
  },
  {
   "cell_type": "code",
   "execution_count": 5,
   "metadata": {},
   "outputs": [],
   "source": [
    "pytree1 = {\"a\": -1, \"b\": {\"c\": 2, \"d\": 3}, \"e\": -4, \"f\": {\"g\": 7, \"h\": 8}}\n",
    "indexer: sk.AtIndexer = sk.AtIndexer(pytree1)"
   ]
  },
  {
   "cell_type": "code",
   "execution_count": 6,
   "metadata": {},
   "outputs": [
    {
     "data": {
      "text/plain": [
       "{'a': -1, 'b': {'c': 200, 'd': 3}, 'e': -4, 'f': {'g': 7, 'h': 8}}"
      ]
     },
     "execution_count": 6,
     "metadata": {},
     "output_type": "execute_result"
    }
   ],
   "source": [
    "# exmaple 1: set the value of pytree1[\"b\"][\"c\"] to 200\n",
    "pytree2 = indexer[\"b\"][\"c\"].set(200)\n",
    "pytree2"
   ]
  },
  {
   "cell_type": "code",
   "execution_count": 7,
   "metadata": {},
   "outputs": [
    {
     "data": {
      "text/plain": [
       "{'a': -1, 'b': 100, 'e': -4, 'f': {'g': 7, 'h': 8}}"
      ]
     },
     "execution_count": 7,
     "metadata": {},
     "output_type": "execute_result"
    }
   ],
   "source": [
    "# example 2: set the value of pytree1[\"b\"] to 100\n",
    "pytree3 = indexer[\"b\"].set(100)\n",
    "pytree3"
   ]
  },
  {
   "cell_type": "code",
   "execution_count": 8,
   "metadata": {},
   "outputs": [
    {
     "data": {
      "text/plain": [
       "{'a': -1, 'b': {'c': 100, 'd': 100}, 'e': -4, 'f': {'g': 7, 'h': 8}}"
      ]
     },
     "execution_count": 8,
     "metadata": {},
     "output_type": "execute_result"
    }
   ],
   "source": [
    "# example 3: set _all leaves_ of  \"b\" subtree to 100\n",
    "pytree4 = indexer[\"b\"][...].set(100)\n",
    "pytree4"
   ]
  },
  {
   "cell_type": "code",
   "execution_count": 9,
   "metadata": {},
   "outputs": [
    {
     "data": {
      "text/plain": [
       "{'a': -1, 'b': {'c': 100, 'd': 100}, 'e': -4, 'f': {'g': 100, 'h': 100}}"
      ]
     },
     "execution_count": 9,
     "metadata": {},
     "output_type": "execute_result"
    }
   ],
   "source": [
    "# example 4: set _all leaves_ of  pytree1[\"b\"] _and_ pytree1[\"f\"] to 100\n",
    "pytree5 = indexer[\"b\", \"f\"][...].set(100)\n",
    "pytree5"
   ]
  },
  {
   "cell_type": "markdown",
   "metadata": {},
   "source": [
    "### Masked indexing\n",
    "`serket.AtIndexer` can also edit pytree entries by a boolean mask, meaning that given a mask of the same structure of the pytree, then nodes marked `True` will be edited, otherwise will not be touched. The following example set all negative entries to 0:"
   ]
  },
  {
   "cell_type": "code",
   "execution_count": 10,
   "metadata": {},
   "outputs": [
    {
     "data": {
      "text/plain": [
       "{'a': 0, 'b': {'c': 2, 'd': 3}, 'e': 0}"
      ]
     },
     "execution_count": 10,
     "metadata": {},
     "output_type": "execute_result"
    }
   ],
   "source": [
    "pytree1 = {\"a\": -1, \"b\": {\"c\": 2, \"d\": 3}, \"e\": -4}\n",
    "mask = jax.tree_map(lambda x: x < 0, pytree1)\n",
    "indexer: sk.AtIndexer = sk.AtIndexer(pytree1)\n",
    "pytree2 = indexer[mask].set(0)\n",
    "pytree2"
   ]
  },
  {
   "cell_type": "markdown",
   "metadata": {},
   "source": [
    "Other features include `get`,`apply`,`scan`,`reduce`, and `pluck`. Check the documentation for more examples"
   ]
  },
  {
   "cell_type": "markdown",
   "metadata": {},
   "source": [
    "## `serket` layers surgery\n",
    "\n",
    "Similarly, `serket` layers are pytrees as above with `AtIndexer` embeded in `TreeClass` under `.at` property. This design enables powerful composition of both name/index based and boolean based updates. The next example demonstrates this point.\n"
   ]
  },
  {
   "cell_type": "code",
   "execution_count": 11,
   "metadata": {},
   "outputs": [
    {
     "name": "stdout",
     "output_type": "stream",
     "text": [
      "net1=Net(\n",
      "  encoder={\n",
      "    weight:f32[5,3](μ=0.30, σ=0.90, ∈[-1.44,1.84]), \n",
      "    bias:f32[5](μ=0.00, σ=0.00, ∈[0.00,0.00])\n",
      "  }, \n",
      "  decoder={\n",
      "    weight:f32[5,5](μ=-0.16, σ=0.75, ∈[-1.78,1.20]), \n",
      "    bias:f32[3](μ=0.00, σ=0.00, ∈[0.00,0.00])\n",
      "  }\n",
      ")\n"
     ]
    }
   ],
   "source": [
    "# basic convnet with two convolutional layers\n",
    "class Net(sk.TreeClass):\n",
    "    def __init__(self, in_features: int, out_features: int, *, key: jax.Array):\n",
    "        k1, k2 = jax.random.split(key)\n",
    "        W1 = jax.random.normal(k1, (out_features, in_features))\n",
    "        W2 = jax.random.normal(k2, (out_features, out_features))\n",
    "\n",
    "        self.encoder = {\"weight\": W1, \"bias\": jnp.zeros((out_features,))}\n",
    "        self.decoder = {\"weight\": W2, \"bias\": jnp.zeros((in_features,))}\n",
    "\n",
    "    def __call__(self, x):\n",
    "        x = x @ self.encoder[\"weight\"] + self.encoder[\"bias\"]\n",
    "        x = x @ self.decoder[\"weight\"] + self.decoder[\"bias\"]\n",
    "        return\n",
    "\n",
    "\n",
    "net1 = Net(3, 5, key=jax.random.PRNGKey(0))\n",
    "print(f\"{net1=}\")"
   ]
  },
  {
   "cell_type": "markdown",
   "metadata": {},
   "source": [
    "Now, suppose we want to set the range of `weight` in both layers `conv1` and `conv2` to `[-0.2, 0.2]` by clipping out of bound values."
   ]
  },
  {
   "cell_type": "code",
   "execution_count": 12,
   "metadata": {},
   "outputs": [
    {
     "data": {
      "text/plain": [
       "Net(\n",
       "  encoder={\n",
       "    bias:f32[5](μ=0.00, σ=0.00, ∈[0.00,0.00]), \n",
       "    weight:f32[5,3](μ=0.04, σ=0.18, ∈[-0.20,0.20])\n",
       "  }, \n",
       "  decoder={\n",
       "    bias:f32[3](μ=0.00, σ=0.00, ∈[0.00,0.00]), \n",
       "    weight:f32[5,5](μ=-0.02, σ=0.18, ∈[-0.20,0.20])\n",
       "  }\n",
       ")"
      ]
     },
     "execution_count": 12,
     "metadata": {},
     "output_type": "execute_result"
    }
   ],
   "source": [
    "# example 1: clip the `weights` of `encoder` and `decoder` to [-0.2, 0.2]\n",
    "net2 = net1.at[\"encoder\", \"decoder\"][\"weight\"].apply(lambda x: jnp.clip(x, -0.2, 0.2))\n",
    "net2"
   ]
  },
  {
   "cell_type": "code",
   "execution_count": 13,
   "metadata": {},
   "outputs": [
    {
     "data": {
      "text/plain": [
       "Net(\n",
       "  encoder={\n",
       "    weight:f32[5,3](μ=100.00, σ=0.00, ∈[100.00,100.00]), \n",
       "    bias:f32[5](μ=100.00, σ=0.00, ∈[100.00,100.00])\n",
       "  }, \n",
       "  decoder={\n",
       "    weight:f32[5,5](μ=-0.16, σ=0.75, ∈[-1.78,1.20]), \n",
       "    bias:f32[3](μ=0.00, σ=0.00, ∈[0.00,0.00])\n",
       "  }\n",
       ")"
      ]
     },
     "execution_count": 13,
     "metadata": {},
     "output_type": "execute_result"
    }
   ],
   "source": [
    "# example 2: load pretrained weights for `encoder`\n",
    "pretrained = {\"weight\": jnp.ones((5, 3)) * 100.0, \"bias\": jnp.ones((5,)) * 100.0}\n",
    "net3 = net1.at[\"encoder\"].set(pretrained)\n",
    "net3"
   ]
  }
 ],
 "metadata": {
  "kernelspec": {
   "display_name": "py311",
   "language": "python",
   "name": "python3"
  },
  "language_info": {
   "codemirror_mode": {
    "name": "ipython",
    "version": 3
   },
   "file_extension": ".py",
   "mimetype": "text/x-python",
   "name": "python",
   "nbconvert_exporter": "python",
   "pygments_lexer": "ipython3",
   "version": "3.11.0"
  },
  "orig_nbformat": 4
 },
 "nbformat": 4,
 "nbformat_minor": 2
}
