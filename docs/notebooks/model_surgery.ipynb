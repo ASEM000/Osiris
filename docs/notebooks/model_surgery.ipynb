{
 "cells": [
  {
   "cell_type": "markdown",
   "metadata": {},
   "source": [
    "# ✂️ Model surgery\n",
    "\n",
    "This tutorial provides a basic review of model surgery techniques. Because models are basically [pytrees](https://jax.readthedocs.io/en/latest/pytrees.html) (nested datastructures like `tuple` or `dict`), this approach applies to manipulating any other pytrees, not just neural network layers."
   ]
  },
  {
   "cell_type": "code",
   "execution_count": null,
   "metadata": {},
   "outputs": [],
   "source": [
    "!pip install git+https://github.com/ASEM000/serket --quiet"
   ]
  },
  {
   "cell_type": "markdown",
   "metadata": {},
   "source": [
    "## `AtIndexer` basics\n",
    "\n",
    "`serket.AtIndexer` wraps any pytree to manipulate its content in out-of-place fashion. This means that any change will be applied on a _new_ instance of the pytree. The following example demonstrate this point:"
   ]
  },
  {
   "cell_type": "code",
   "execution_count": 1,
   "metadata": {},
   "outputs": [
    {
     "name": "stdout",
     "output_type": "stream",
     "text": [
      "[1, [100, 3], 4]\n"
     ]
    },
    {
     "data": {
      "text/plain": [
       "False"
      ]
     },
     "execution_count": 1,
     "metadata": {},
     "output_type": "execute_result"
    }
   ],
   "source": [
    "import serket as sk\n",
    "pytree1 = [1, [2, 3], 4]\n",
    "pytree2 = sk.AtIndexer(pytree1)[1][0].set(100)  # equivalent to pytree[1][0] = 100\n",
    "print(pytree2)\n",
    "# [1, [100, 3], 4]\n",
    "pytree1 is pytree2  # test out-of-place update"
   ]
  },
  {
   "cell_type": "markdown",
   "metadata": {},
   "source": [
    "`serket.AtIndexer` can also edit pytree entries by a boolean mask, meaning that given a mask of the same structure of the pytree, then nodes marked `True` will be edited, otherwise will not be touched. The following example set all negative entries to 0:"
   ]
  },
  {
   "cell_type": "code",
   "execution_count": 2,
   "metadata": {},
   "outputs": [
    {
     "name": "stdout",
     "output_type": "stream",
     "text": [
      "{'a': 0, 'b': {'c': 2, 'd': 3}, 'e': 0}\n"
     ]
    },
    {
     "data": {
      "text/plain": [
       "False"
      ]
     },
     "execution_count": 2,
     "metadata": {},
     "output_type": "execute_result"
    }
   ],
   "source": [
    "import serket as sk\n",
    "import jax\n",
    "\n",
    "pytree1 = {\"a\": -1, \"b\": {\"c\": 2, \"d\": 3}, \"e\": -4}\n",
    "mask = jax.tree_map(lambda x: x < 0, pytree1)\n",
    "pytree2 = sk.AtIndexer(pytree1)[mask].set(0)\n",
    "print(pytree2)\n",
    "# {'a': 0, 'b': {'c': 2, 'd': 3}, 'e': 0}\n",
    "pytree1 is pytree2  # test out-of-place update\n",
    "# False"
   ]
  },
  {
   "cell_type": "markdown",
   "metadata": {},
   "source": [
    "## `serket` layers surgery\n",
    "\n",
    "Similarly, `serket` layers are pytrees as above. Howver, `AtIndexer` is embeded in `TreeClass` under `.at` property, this design enables powerful composition of both name/index based and boolean based updates. The next example demonstrates this point.\n"
   ]
  },
  {
   "cell_type": "code",
   "execution_count": 3,
   "metadata": {},
   "outputs": [
    {
     "name": "stdout",
     "output_type": "stream",
     "text": [
      "ConvNet\n",
      "├── .conv1:Conv2D\n",
      "│   ├── .in_features=3\n",
      "│   ├── .out_features=10\n",
      "│   ├── .kernel_size=(...)\n",
      "│   ├── .strides=(...)\n",
      "│   ├── .padding=same\n",
      "│   ├── .dilation=(...)\n",
      "│   ├── .weight_init=glorot_uniform\n",
      "│   ├── .bias_init=zeros\n",
      "│   ├── .groups=1\n",
      "│   ├── .weight=f32[10,3,3,3](μ=-0.00, σ=0.11, ∈[-0.18,0.18])\n",
      "│   └── .bias=f32[10,1,1](μ=0.00, σ=0.00, ∈[0.00,0.00])\n",
      "└── .conv2:Conv2D\n",
      "    ├── .in_features=10\n",
      "    ├── .out_features=1\n",
      "    ├── .kernel_size=(...)\n",
      "    ├── .strides=(...)\n",
      "    ├── .padding=same\n",
      "    ├── .dilation=(...)\n",
      "    ├── .weight_init=glorot_uniform\n",
      "    ├── .bias_init=zeros\n",
      "    ├── .groups=1\n",
      "    ├── .weight=f32[1,10,1,1](μ=-0.18, σ=0.29, ∈[-0.53,0.31])\n",
      "    └── .bias=f32[1,1,1](μ=0.00, σ=0.00, ∈[0.00,0.00])\n"
     ]
    }
   ],
   "source": [
    "import serket as sk\n",
    "import jax\n",
    "import jax.numpy as jnp\n",
    "\n",
    "\n",
    "# basic convnet with two convolutional layers\n",
    "class ConvNet(sk.TreeClass):\n",
    "    def __init__(self, indim, outdim, key):\n",
    "        k1, k2 = jax.random.split(key)\n",
    "        self.conv1 = sk.nn.Conv2D(indim, outdim, 3, key=k1)\n",
    "        self.conv2 = sk.nn.Conv2D(outdim, 1, 1, key=k2)\n",
    "\n",
    "    def __call__(self, x):\n",
    "        x = self.conv1(x)\n",
    "        x = jax.nn.relu(x)\n",
    "        x = self.conv2(x)\n",
    "        return x\n",
    "\n",
    "\n",
    "cnn1 = ConvNet(3, 10, jax.random.PRNGKey(0))\n",
    "\n",
    "# note that `ConvNet` is composed of two branches\n",
    "print(sk.tree_diagram(cnn1, depth=2))"
   ]
  },
  {
   "cell_type": "markdown",
   "metadata": {},
   "source": [
    "Now, suppose we want to set the range of 'weight' in both layers to `[-0.2, 0.2]` by setting out-of-range values to zero. Combining the name-based indexing - i.e. `conv1.weight` and `conv2.weight` - with boolean masking - i.e. a mask that is true if `x<-0.2` or `x>0.2` - suffices to achieve this. The following example show how can achieve this by _composition_."
   ]
  },
  {
   "cell_type": "code",
   "execution_count": 4,
   "metadata": {},
   "outputs": [
    {
     "name": "stdout",
     "output_type": "stream",
     "text": [
      "ConvNet\n",
      "├── .conv1:Conv2D\n",
      "│   ├── .in_features=3\n",
      "│   ├── .out_features=10\n",
      "│   ├── .kernel_size=(...)\n",
      "│   ├── .strides=(...)\n",
      "│   ├── .padding=same\n",
      "│   ├── .dilation=(...)\n",
      "│   ├── .weight_init=glorot_uniform\n",
      "│   ├── .bias_init=zeros\n",
      "│   ├── .groups=1\n",
      "│   ├── .weight=f32[10,3,3,3](μ=-0.00, σ=0.11, ∈[-0.18,0.18])\n",
      "│   └── .bias=f32[10,1,1](μ=0.00, σ=0.00, ∈[0.00,0.00])\n",
      "└── .conv2:Conv2D\n",
      "    ├── .in_features=10\n",
      "    ├── .out_features=1\n",
      "    ├── .kernel_size=(...)\n",
      "    ├── .strides=(...)\n",
      "    ├── .padding=same\n",
      "    ├── .dilation=(...)\n",
      "    ├── .weight_init=glorot_uniform\n",
      "    ├── .bias_init=zeros\n",
      "    ├── .groups=1\n",
      "    ├── .weight=f32[1,10,1,1](μ=-0.02, σ=0.08, ∈[-0.17,0.14])\n",
      "    └── .bias=f32[1,1,1](μ=0.00, σ=0.00, ∈[0.00,0.00])\n"
     ]
    }
   ],
   "source": [
    "def set_to_zero(x):\n",
    "    # set all values of x to zero if they are not in the range [-0.2, 0.2]\n",
    "    return jnp.where(x < -0.2, 0, jnp.where(x > 0.2, 0, x))\n",
    "\n",
    "\n",
    "# note that ['conv1', 'conv2'] is basically selecting both 'conv1' and 'conv2'\n",
    "cnn2 = cnn1.at[\"conv1\", \"conv2\"][\"weight\"].apply(set_to_zero)\n",
    "\n",
    "# note that weight of both 'conv1' and 'conv2' range is changed\n",
    "print(sk.tree_diagram(cnn2, depth=2))"
   ]
  }
 ],
 "metadata": {
  "kernelspec": {
   "display_name": "py311",
   "language": "python",
   "name": "python3"
  },
  "language_info": {
   "codemirror_mode": {
    "name": "ipython",
    "version": 3
   },
   "file_extension": ".py",
   "mimetype": "text/x-python",
   "name": "python",
   "nbconvert_exporter": "python",
   "pygments_lexer": "ipython3",
   "version": "3.11.0"
  },
  "orig_nbformat": 4
 },
 "nbformat": 4,
 "nbformat_minor": 2
}
